{
  "nbformat": 4,
  "nbformat_minor": 0,
  "metadata": {
    "colab": {
      "provenance": [],
      "collapsed_sections": [],
      "authorship_tag": "ABX9TyNoiqBHDbxe/eHrjRZuYQKe",
      "include_colab_link": true
    },
    "kernelspec": {
      "name": "python3",
      "display_name": "Python 3"
    },
    "language_info": {
      "name": "python"
    }
  },
  "cells": [
    {
      "cell_type": "markdown",
      "metadata": {
        "id": "view-in-github",
        "colab_type": "text"
      },
      "source": [
        "<a href=\"https://colab.research.google.com/github/yhussain1/MachineLearning/blob/main/YuGiOhDescDeep1_0.ipynb\" target=\"_parent\"><img src=\"https://colab.research.google.com/assets/colab-badge.svg\" alt=\"Open In Colab\"/></a>"
      ]
    },
    {
      "cell_type": "code",
      "execution_count": null,
      "metadata": {
        "id": "V3yFsyJc2Nqq"
      },
      "outputs": [],
      "source": [
        "import pandas as pd\n",
        "import matplotlib.pyplot as plt\n",
        "import nltk\n",
        "nltk.download(['all'])\n",
        "from nltk.tokenize import sent_tokenize, word_tokenize\n",
        "import random"
      ]
    },
    {
      "cell_type": "code",
      "source": [
        "from google.colab import files\n",
        "upload_file = files.upload()"
      ],
      "metadata": {
        "colab": {
          "base_uri": "https://localhost:8080/",
          "height": 74
        },
        "id": "SPzJrFot2Q06",
        "outputId": "0c2f49d4-3da7-4576-ddc5-7ea8d1d68903"
      },
      "execution_count": 2,
      "outputs": [
        {
          "output_type": "display_data",
          "data": {
            "text/plain": [
              "<IPython.core.display.HTML object>"
            ],
            "text/html": [
              "\n",
              "     <input type=\"file\" id=\"files-ddb4196c-a46a-4523-9b94-07425a505492\" name=\"files[]\" multiple disabled\n",
              "        style=\"border:none\" />\n",
              "     <output id=\"result-ddb4196c-a46a-4523-9b94-07425a505492\">\n",
              "      Upload widget is only available when the cell has been executed in the\n",
              "      current browser session. Please rerun this cell to enable.\n",
              "      </output>\n",
              "      <script>// Copyright 2017 Google LLC\n",
              "//\n",
              "// Licensed under the Apache License, Version 2.0 (the \"License\");\n",
              "// you may not use this file except in compliance with the License.\n",
              "// You may obtain a copy of the License at\n",
              "//\n",
              "//      http://www.apache.org/licenses/LICENSE-2.0\n",
              "//\n",
              "// Unless required by applicable law or agreed to in writing, software\n",
              "// distributed under the License is distributed on an \"AS IS\" BASIS,\n",
              "// WITHOUT WARRANTIES OR CONDITIONS OF ANY KIND, either express or implied.\n",
              "// See the License for the specific language governing permissions and\n",
              "// limitations under the License.\n",
              "\n",
              "/**\n",
              " * @fileoverview Helpers for google.colab Python module.\n",
              " */\n",
              "(function(scope) {\n",
              "function span(text, styleAttributes = {}) {\n",
              "  const element = document.createElement('span');\n",
              "  element.textContent = text;\n",
              "  for (const key of Object.keys(styleAttributes)) {\n",
              "    element.style[key] = styleAttributes[key];\n",
              "  }\n",
              "  return element;\n",
              "}\n",
              "\n",
              "// Max number of bytes which will be uploaded at a time.\n",
              "const MAX_PAYLOAD_SIZE = 100 * 1024;\n",
              "\n",
              "function _uploadFiles(inputId, outputId) {\n",
              "  const steps = uploadFilesStep(inputId, outputId);\n",
              "  const outputElement = document.getElementById(outputId);\n",
              "  // Cache steps on the outputElement to make it available for the next call\n",
              "  // to uploadFilesContinue from Python.\n",
              "  outputElement.steps = steps;\n",
              "\n",
              "  return _uploadFilesContinue(outputId);\n",
              "}\n",
              "\n",
              "// This is roughly an async generator (not supported in the browser yet),\n",
              "// where there are multiple asynchronous steps and the Python side is going\n",
              "// to poll for completion of each step.\n",
              "// This uses a Promise to block the python side on completion of each step,\n",
              "// then passes the result of the previous step as the input to the next step.\n",
              "function _uploadFilesContinue(outputId) {\n",
              "  const outputElement = document.getElementById(outputId);\n",
              "  const steps = outputElement.steps;\n",
              "\n",
              "  const next = steps.next(outputElement.lastPromiseValue);\n",
              "  return Promise.resolve(next.value.promise).then((value) => {\n",
              "    // Cache the last promise value to make it available to the next\n",
              "    // step of the generator.\n",
              "    outputElement.lastPromiseValue = value;\n",
              "    return next.value.response;\n",
              "  });\n",
              "}\n",
              "\n",
              "/**\n",
              " * Generator function which is called between each async step of the upload\n",
              " * process.\n",
              " * @param {string} inputId Element ID of the input file picker element.\n",
              " * @param {string} outputId Element ID of the output display.\n",
              " * @return {!Iterable<!Object>} Iterable of next steps.\n",
              " */\n",
              "function* uploadFilesStep(inputId, outputId) {\n",
              "  const inputElement = document.getElementById(inputId);\n",
              "  inputElement.disabled = false;\n",
              "\n",
              "  const outputElement = document.getElementById(outputId);\n",
              "  outputElement.innerHTML = '';\n",
              "\n",
              "  const pickedPromise = new Promise((resolve) => {\n",
              "    inputElement.addEventListener('change', (e) => {\n",
              "      resolve(e.target.files);\n",
              "    });\n",
              "  });\n",
              "\n",
              "  const cancel = document.createElement('button');\n",
              "  inputElement.parentElement.appendChild(cancel);\n",
              "  cancel.textContent = 'Cancel upload';\n",
              "  const cancelPromise = new Promise((resolve) => {\n",
              "    cancel.onclick = () => {\n",
              "      resolve(null);\n",
              "    };\n",
              "  });\n",
              "\n",
              "  // Wait for the user to pick the files.\n",
              "  const files = yield {\n",
              "    promise: Promise.race([pickedPromise, cancelPromise]),\n",
              "    response: {\n",
              "      action: 'starting',\n",
              "    }\n",
              "  };\n",
              "\n",
              "  cancel.remove();\n",
              "\n",
              "  // Disable the input element since further picks are not allowed.\n",
              "  inputElement.disabled = true;\n",
              "\n",
              "  if (!files) {\n",
              "    return {\n",
              "      response: {\n",
              "        action: 'complete',\n",
              "      }\n",
              "    };\n",
              "  }\n",
              "\n",
              "  for (const file of files) {\n",
              "    const li = document.createElement('li');\n",
              "    li.append(span(file.name, {fontWeight: 'bold'}));\n",
              "    li.append(span(\n",
              "        `(${file.type || 'n/a'}) - ${file.size} bytes, ` +\n",
              "        `last modified: ${\n",
              "            file.lastModifiedDate ? file.lastModifiedDate.toLocaleDateString() :\n",
              "                                    'n/a'} - `));\n",
              "    const percent = span('0% done');\n",
              "    li.appendChild(percent);\n",
              "\n",
              "    outputElement.appendChild(li);\n",
              "\n",
              "    const fileDataPromise = new Promise((resolve) => {\n",
              "      const reader = new FileReader();\n",
              "      reader.onload = (e) => {\n",
              "        resolve(e.target.result);\n",
              "      };\n",
              "      reader.readAsArrayBuffer(file);\n",
              "    });\n",
              "    // Wait for the data to be ready.\n",
              "    let fileData = yield {\n",
              "      promise: fileDataPromise,\n",
              "      response: {\n",
              "        action: 'continue',\n",
              "      }\n",
              "    };\n",
              "\n",
              "    // Use a chunked sending to avoid message size limits. See b/62115660.\n",
              "    let position = 0;\n",
              "    do {\n",
              "      const length = Math.min(fileData.byteLength - position, MAX_PAYLOAD_SIZE);\n",
              "      const chunk = new Uint8Array(fileData, position, length);\n",
              "      position += length;\n",
              "\n",
              "      const base64 = btoa(String.fromCharCode.apply(null, chunk));\n",
              "      yield {\n",
              "        response: {\n",
              "          action: 'append',\n",
              "          file: file.name,\n",
              "          data: base64,\n",
              "        },\n",
              "      };\n",
              "\n",
              "      let percentDone = fileData.byteLength === 0 ?\n",
              "          100 :\n",
              "          Math.round((position / fileData.byteLength) * 100);\n",
              "      percent.textContent = `${percentDone}% done`;\n",
              "\n",
              "    } while (position < fileData.byteLength);\n",
              "  }\n",
              "\n",
              "  // All done.\n",
              "  yield {\n",
              "    response: {\n",
              "      action: 'complete',\n",
              "    }\n",
              "  };\n",
              "}\n",
              "\n",
              "scope.google = scope.google || {};\n",
              "scope.google.colab = scope.google.colab || {};\n",
              "scope.google.colab._files = {\n",
              "  _uploadFiles,\n",
              "  _uploadFilesContinue,\n",
              "};\n",
              "})(self);\n",
              "</script> "
            ]
          },
          "metadata": {}
        },
        {
          "output_type": "stream",
          "name": "stdout",
          "text": [
            "Saving ygocards.csv to ygocards.csv\n"
          ]
        }
      ]
    },
    {
      "cell_type": "code",
      "source": [
        "df = pd.read_csv(\"ygocards.csv\", delimiter = ',')\n",
        "df.head()\n",
        "\n",
        "emonster = ['Effect Monster', 'Spirit Monster', 'Tuner Monster', 'Gemini Monster', 'Toon Monster'] \n",
        "nmonster = ['Normal Monster']\n",
        "\n",
        "df.loc[df['CardType'].str.contains('|'.join(nmonster)), 'CardType'] = 'Normal Monster'\n",
        "df.loc[df['CardType'].str.contains('|'.join(emonster)), 'CardType'] = 'Effect Monster'\n",
        "df.loc[df['CardType'].str.contains('Fusion'), 'CardType'] = 'Fusion Monster'\n",
        "df.loc[df['CardType'].str.contains('Synchro'), 'CardType'] = 'Synchro Monster'\n",
        "df.loc[df['CardType'].str.contains('Ritual'), 'CardType'] = 'Effect Monster'\n",
        "df.loc[df['CardType'].str.contains('XYZ'), 'CardType'] = 'XYZ Monster'\n",
        "df.loc[df['CardType'].str.contains('Link'), 'CardType'] = 'Link Monster'\n",
        "\n",
        "df.loc[df['CardType'].str.contains('Token'), 'CardType'] = 'Token'\n",
        "df.loc[df['CardType'].str.contains('Spell'), 'CardType'] = 'Spell'\n",
        "df.loc[df['CardType'].str.contains('Trap'), 'CardType'] = 'Trap'\n",
        "df.loc[df['CardType'].str.contains('Skill'), 'CardType'] = 'Spell'\n",
        "df.drop(df[df.CardType == 'Token'].index, inplace = True)\n",
        "\n",
        "df.head()\n",
        "df = df.sample(frac=1)\n",
        "df['CardType'].value_counts()"
      ],
      "metadata": {
        "colab": {
          "base_uri": "https://localhost:8080/"
        },
        "id": "UIk10rhu27M3",
        "outputId": "cdd4fafb-9476-4334-a25b-6f9a201ea554"
      },
      "execution_count": 3,
      "outputs": [
        {
          "output_type": "execute_result",
          "data": {
            "text/plain": [
              "Effect Monster     4783\n",
              "Spell              1852\n",
              "Trap               1523\n",
              "Normal Monster      517\n",
              "XYZ Monster         388\n",
              "Fusion Monster      334\n",
              "Synchro Monster     306\n",
              "Link Monster        275\n",
              "Name: CardType, dtype: int64"
            ]
          },
          "metadata": {},
          "execution_count": 3
        }
      ]
    },
    {
      "cell_type": "code",
      "source": [
        "df.shape"
      ],
      "metadata": {
        "colab": {
          "base_uri": "https://localhost:8080/"
        },
        "id": "YcwJp9-73yix",
        "outputId": "45ca55c6-b0de-44fe-8f08-601479530fc5"
      },
      "execution_count": 4,
      "outputs": [
        {
          "output_type": "execute_result",
          "data": {
            "text/plain": [
              "(9978, 3)"
            ]
          },
          "metadata": {},
          "execution_count": 4
        }
      ]
    },
    {
      "cell_type": "code",
      "source": [
        "nm = df[df.CardType == 'Normal Monster'][:250]\n",
        "em = df[df.CardType == 'Effect Monster'][:250]\n",
        "fm = df[df.CardType == 'Fusion Monster'][:250]\n",
        "sm = df[df.CardType == 'Synchro Monster'][:250]\n",
        "xm = df[df.CardType == 'XYZ Monster'][:250]\n",
        "lm = df[df.CardType == 'Link Monster'][:250]\n",
        "sc = df[df.CardType == 'Spell'][:250]\n",
        "tc = df[df.CardType == 'Trap'][:250]\n",
        "\n",
        "f_df = pd.DataFrame()\n",
        "f_df = f_df.append([nm,em,fm,sm,xm,lm,sc,tc])\n",
        "\n",
        "f_df['CardType'].value_counts()\n"
      ],
      "metadata": {
        "colab": {
          "base_uri": "https://localhost:8080/"
        },
        "id": "BOptzism4W7m",
        "outputId": "f2470c09-3928-4164-c695-65d8cf162f4a"
      },
      "execution_count": 5,
      "outputs": [
        {
          "output_type": "execute_result",
          "data": {
            "text/plain": [
              "Normal Monster     250\n",
              "Effect Monster     250\n",
              "Fusion Monster     250\n",
              "Synchro Monster    250\n",
              "XYZ Monster        250\n",
              "Link Monster       250\n",
              "Spell              250\n",
              "Trap               250\n",
              "Name: CardType, dtype: int64"
            ]
          },
          "metadata": {},
          "execution_count": 5
        }
      ]
    },
    {
      "cell_type": "code",
      "source": [
        "group = ['CardName', 'CardType']\n",
        "desc_by_card = f_df.sort_values(group).groupby(group).Description.apply(' '.join).apply(lambda x: x.lower()).reset_index(name='Description')\n",
        "\n",
        "#desc_by_card['Description'] = desc_by_card['Description'].str.replace(r'[^\\w\\s]','')\n",
        "\n",
        "f_df = desc_by_card\n",
        "f_df.head()"
      ],
      "metadata": {
        "id": "8juOGk83-ZLy",
        "colab": {
          "base_uri": "https://localhost:8080/",
          "height": 206
        },
        "outputId": "6f3df981-a8bb-4918-862c-bb17bd92947d"
      },
      "execution_count": 6,
      "outputs": [
        {
          "output_type": "execute_result",
          "data": {
            "text/plain": [
              "                       CardName        CardType  \\\n",
              "0              8-Claws Scorpion  Effect Monster   \n",
              "1              A.I. Love Fusion           Spell   \n",
              "2  Abyss Actor - Hyper Director    Link Monster   \n",
              "3       Abyss Actors Back Stage            Trap   \n",
              "4    Abyss Actors' Curtain Call            Trap   \n",
              "\n",
              "                                         Description  \n",
              "0  once per turn, you can flip this card into fac...  \n",
              "1  fusion summon 1 cyberse fusion monster from yo...  \n",
              "2  1 \"abyss actor\" pendulum monster you can targe...  \n",
              "3  if you have 2 \"abyss actor\" cards in your pend...  \n",
              "4  if an \"abyss script\" spell card or effect is a...  "
            ],
            "text/html": [
              "\n",
              "  <div id=\"df-d4aea123-47c4-4307-ac90-6b54ef0dbc75\">\n",
              "    <div class=\"colab-df-container\">\n",
              "      <div>\n",
              "<style scoped>\n",
              "    .dataframe tbody tr th:only-of-type {\n",
              "        vertical-align: middle;\n",
              "    }\n",
              "\n",
              "    .dataframe tbody tr th {\n",
              "        vertical-align: top;\n",
              "    }\n",
              "\n",
              "    .dataframe thead th {\n",
              "        text-align: right;\n",
              "    }\n",
              "</style>\n",
              "<table border=\"1\" class=\"dataframe\">\n",
              "  <thead>\n",
              "    <tr style=\"text-align: right;\">\n",
              "      <th></th>\n",
              "      <th>CardName</th>\n",
              "      <th>CardType</th>\n",
              "      <th>Description</th>\n",
              "    </tr>\n",
              "  </thead>\n",
              "  <tbody>\n",
              "    <tr>\n",
              "      <th>0</th>\n",
              "      <td>8-Claws Scorpion</td>\n",
              "      <td>Effect Monster</td>\n",
              "      <td>once per turn, you can flip this card into fac...</td>\n",
              "    </tr>\n",
              "    <tr>\n",
              "      <th>1</th>\n",
              "      <td>A.I. Love Fusion</td>\n",
              "      <td>Spell</td>\n",
              "      <td>fusion summon 1 cyberse fusion monster from yo...</td>\n",
              "    </tr>\n",
              "    <tr>\n",
              "      <th>2</th>\n",
              "      <td>Abyss Actor - Hyper Director</td>\n",
              "      <td>Link Monster</td>\n",
              "      <td>1 \"abyss actor\" pendulum monster you can targe...</td>\n",
              "    </tr>\n",
              "    <tr>\n",
              "      <th>3</th>\n",
              "      <td>Abyss Actors Back Stage</td>\n",
              "      <td>Trap</td>\n",
              "      <td>if you have 2 \"abyss actor\" cards in your pend...</td>\n",
              "    </tr>\n",
              "    <tr>\n",
              "      <th>4</th>\n",
              "      <td>Abyss Actors' Curtain Call</td>\n",
              "      <td>Trap</td>\n",
              "      <td>if an \"abyss script\" spell card or effect is a...</td>\n",
              "    </tr>\n",
              "  </tbody>\n",
              "</table>\n",
              "</div>\n",
              "      <button class=\"colab-df-convert\" onclick=\"convertToInteractive('df-d4aea123-47c4-4307-ac90-6b54ef0dbc75')\"\n",
              "              title=\"Convert this dataframe to an interactive table.\"\n",
              "              style=\"display:none;\">\n",
              "        \n",
              "  <svg xmlns=\"http://www.w3.org/2000/svg\" height=\"24px\"viewBox=\"0 0 24 24\"\n",
              "       width=\"24px\">\n",
              "    <path d=\"M0 0h24v24H0V0z\" fill=\"none\"/>\n",
              "    <path d=\"M18.56 5.44l.94 2.06.94-2.06 2.06-.94-2.06-.94-.94-2.06-.94 2.06-2.06.94zm-11 1L8.5 8.5l.94-2.06 2.06-.94-2.06-.94L8.5 2.5l-.94 2.06-2.06.94zm10 10l.94 2.06.94-2.06 2.06-.94-2.06-.94-.94-2.06-.94 2.06-2.06.94z\"/><path d=\"M17.41 7.96l-1.37-1.37c-.4-.4-.92-.59-1.43-.59-.52 0-1.04.2-1.43.59L10.3 9.45l-7.72 7.72c-.78.78-.78 2.05 0 2.83L4 21.41c.39.39.9.59 1.41.59.51 0 1.02-.2 1.41-.59l7.78-7.78 2.81-2.81c.8-.78.8-2.07 0-2.86zM5.41 20L4 18.59l7.72-7.72 1.47 1.35L5.41 20z\"/>\n",
              "  </svg>\n",
              "      </button>\n",
              "      \n",
              "  <style>\n",
              "    .colab-df-container {\n",
              "      display:flex;\n",
              "      flex-wrap:wrap;\n",
              "      gap: 12px;\n",
              "    }\n",
              "\n",
              "    .colab-df-convert {\n",
              "      background-color: #E8F0FE;\n",
              "      border: none;\n",
              "      border-radius: 50%;\n",
              "      cursor: pointer;\n",
              "      display: none;\n",
              "      fill: #1967D2;\n",
              "      height: 32px;\n",
              "      padding: 0 0 0 0;\n",
              "      width: 32px;\n",
              "    }\n",
              "\n",
              "    .colab-df-convert:hover {\n",
              "      background-color: #E2EBFA;\n",
              "      box-shadow: 0px 1px 2px rgba(60, 64, 67, 0.3), 0px 1px 3px 1px rgba(60, 64, 67, 0.15);\n",
              "      fill: #174EA6;\n",
              "    }\n",
              "\n",
              "    [theme=dark] .colab-df-convert {\n",
              "      background-color: #3B4455;\n",
              "      fill: #D2E3FC;\n",
              "    }\n",
              "\n",
              "    [theme=dark] .colab-df-convert:hover {\n",
              "      background-color: #434B5C;\n",
              "      box-shadow: 0px 1px 3px 1px rgba(0, 0, 0, 0.15);\n",
              "      filter: drop-shadow(0px 1px 2px rgba(0, 0, 0, 0.3));\n",
              "      fill: #FFFFFF;\n",
              "    }\n",
              "  </style>\n",
              "\n",
              "      <script>\n",
              "        const buttonEl =\n",
              "          document.querySelector('#df-d4aea123-47c4-4307-ac90-6b54ef0dbc75 button.colab-df-convert');\n",
              "        buttonEl.style.display =\n",
              "          google.colab.kernel.accessAllowed ? 'block' : 'none';\n",
              "\n",
              "        async function convertToInteractive(key) {\n",
              "          const element = document.querySelector('#df-d4aea123-47c4-4307-ac90-6b54ef0dbc75');\n",
              "          const dataTable =\n",
              "            await google.colab.kernel.invokeFunction('convertToInteractive',\n",
              "                                                     [key], {});\n",
              "          if (!dataTable) return;\n",
              "\n",
              "          const docLinkHtml = 'Like what you see? Visit the ' +\n",
              "            '<a target=\"_blank\" href=https://colab.research.google.com/notebooks/data_table.ipynb>data table notebook</a>'\n",
              "            + ' to learn more about interactive tables.';\n",
              "          element.innerHTML = '';\n",
              "          dataTable['output_type'] = 'display_data';\n",
              "          await google.colab.output.renderOutput(dataTable, element);\n",
              "          const docLink = document.createElement('div');\n",
              "          docLink.innerHTML = docLinkHtml;\n",
              "          element.appendChild(docLink);\n",
              "        }\n",
              "      </script>\n",
              "    </div>\n",
              "  </div>\n",
              "  "
            ]
          },
          "metadata": {},
          "execution_count": 6
        }
      ]
    },
    {
      "cell_type": "code",
      "source": [
        "from nltk import FreqDist, word_tokenize\n",
        "from sklearn.feature_extraction.text import TfidfVectorizer\n",
        "from sklearn.feature_extraction.text import CountVectorizer, TfidfTransformer\n",
        "from nltk.stem import WordNetLemmatizer\n",
        "from nltk.stem.snowball import SnowballStemmer\n",
        "from nltk.corpus import stopwords\n",
        "import string, re\n",
        "\n",
        "desc_list = list(f_df.Description)\n",
        "\n",
        "pattern = \"([a-zA-Z]+(?:'[a-z]+)?)\"\n",
        "\n",
        "lemmatizer = WordNetLemmatizer()\n",
        "stemmer = SnowballStemmer(\"english\")\n",
        "english = list(set(nltk.corpus.words.words()))\n",
        "\n",
        "def clean_docs_lemma(desc_list):\n",
        "    cleaned = []\n",
        "    pattern = \"([a-zA-Z]+(?:'[a-z]+)?)\"\n",
        "    for desc in desc_list:\n",
        "        clean_desc = nltk.regexp_tokenize(desc, pattern)\n",
        "        desc_lower = [i.lower() for i in clean_desc]\n",
        "        stop_words = stopwords.words('english')\n",
        "        stopwords_list = stop_words + list(string.punctuation)\n",
        "        stopwords_list += [\"''\", '\"\"', '...', '``']\n",
        "        desc_tokens_stopped = [w for w in desc_lower if not w in stopwords_list]\n",
        "        desc_lemmas = [lemmatizer.lemmatize(word) for word in desc_tokens_stopped]\n",
        "        c = \" \".join(desc_lemmas)\n",
        "        cleaned.append(c)\n",
        "    return cleaned\n",
        "\n",
        "def clean_docs_stemma(desc_list):\n",
        "    cleaned = []\n",
        "    pattern = \"([a-zA-Z]+(?:'[a-z]+)?)\"\n",
        "    for desc in desc_list:\n",
        "        clean_desc = nltk.regexp_tokenize(desc, pattern)\n",
        "        desc_lower = [i.lower() for i in clean_desc]\n",
        "        stop_words = stopwords.words('english')\n",
        "        stopwords_list = stop_words + list(string.punctuation)\n",
        "        stopwords_list += [\"''\", '\"\"', '...', '``']\n",
        "        desc_tokens_stopped = [w for w in desc_lower if not w in stopwords_list]\n",
        "        desc_stemmas = [stemmer.stem(word) for word in desc_tokens_stopped]\n",
        "        c = \" \".join(desc_stemmas)\n",
        "        cleaned.append(c)\n",
        "    return cleaned"
      ],
      "metadata": {
        "id": "4dL5Bhoq78a0"
      },
      "execution_count": 7,
      "outputs": []
    },
    {
      "cell_type": "code",
      "source": [
        "stemmed_desc = clean_docs_stemma(desc_list)\n",
        "len(set(nltk.word_tokenize(\" \".join(stemmed_desc))))"
      ],
      "metadata": {
        "colab": {
          "base_uri": "https://localhost:8080/"
        },
        "id": "KSny7fn7976j",
        "outputId": "c331e783-efba-475d-c559-e01149601b54"
      },
      "execution_count": 8,
      "outputs": [
        {
          "output_type": "execute_result",
          "data": {
            "text/plain": [
              "2328"
            ]
          },
          "metadata": {},
          "execution_count": 8
        }
      ]
    },
    {
      "cell_type": "code",
      "source": [
        "X = stemmed_desc\n",
        "y = f_df['CardType']\n",
        "\n",
        "len(X) == len(y)"
      ],
      "metadata": {
        "colab": {
          "base_uri": "https://localhost:8080/"
        },
        "id": "SRXoIp4D-Nw6",
        "outputId": "c9d5aec8-4df4-4590-b764-5a264003b7fb"
      },
      "execution_count": 9,
      "outputs": [
        {
          "output_type": "execute_result",
          "data": {
            "text/plain": [
              "True"
            ]
          },
          "metadata": {},
          "execution_count": 9
        }
      ]
    },
    {
      "cell_type": "code",
      "source": [
        "from sklearn.model_selection import train_test_split  \n",
        "X_train, X_test, y_train, y_test = train_test_split(stemmed_desc, f_df['CardType'], test_size=0.2, \n",
        "                                                    random_state=18)"
      ],
      "metadata": {
        "id": "UKwTR8mk_Qww"
      },
      "execution_count": 10,
      "outputs": []
    },
    {
      "cell_type": "code",
      "source": [
        "from sklearn.pipeline import Pipeline\n",
        "from sklearn.naive_bayes import MultinomialNB, GaussianNB\n",
        "from sklearn.neighbors import KNeighborsClassifier\n",
        "from sklearn.ensemble import AdaBoostClassifier, GradientBoostingClassifier\n",
        "from sklearn.ensemble import RandomForestClassifier\n",
        "\n",
        "pipe_NB = Pipeline([('count_vectorizer', CountVectorizer()),\n",
        "                    ('tfidf_vectorizer', TfidfTransformer()),\n",
        "                    ('clf', MultinomialNB())\n",
        "                    ])\n",
        "\n",
        "pipe_GBoost = Pipeline([('count_vectorizer', CountVectorizer()), \n",
        "                    ('tfidf_vectorizer', TfidfTransformer()),\n",
        "                    ('clf', GradientBoostingClassifier(learning_rate=0.3))\n",
        "                    ])\n",
        "\n",
        "pipe_RF = Pipeline([('count_vectorizer', CountVectorizer()), \n",
        "                    ('tfidf_vectorizer', TfidfTransformer()),\n",
        "                    ('clf', RandomForestClassifier())\n",
        "                    ])\n",
        "\n",
        "pipe_ADA = Pipeline([('count_vectorizer', CountVectorizer()), \n",
        "                    ('tfidf_vectorizer', TfidfTransformer()),\n",
        "                    ('clf', AdaBoostClassifier(learning_rate=0.3))\n",
        "                    ])\n",
        "\n",
        "\n",
        "pipe_KNN = Pipeline([('count_vectorizer', CountVectorizer()), \n",
        "                    ('tfidf_vectorizer', TfidfTransformer()),\n",
        "                    ('clf', KNeighborsClassifier())\n",
        "                    ])\n",
        "\n",
        "pipelines = [pipe_NB, pipe_GBoost, pipe_RF, pipe_ADA, pipe_KNN]\n",
        "pipeline_names = ['Multinomail NB', \"Gboost\", 'Random Forest', 'ADA', \"KNN\"]\n",
        "\n",
        "for pipe in pipelines:\n",
        "  print(pipe)\n",
        "  pipe.fit(X_train, y_train)\n",
        "\n",
        "basic_scores = []\n",
        "for index, val in enumerate(pipelines):\n",
        "  tup = (pipeline_names[index], val.score(X_test, y_test))\n",
        "  basic_scores.append(tup)\n",
        "  print('%s pipeline test accuracy: %.3f' % (pipeline_names[index], val.score(X_test, y_test)))"
      ],
      "metadata": {
        "colab": {
          "base_uri": "https://localhost:8080/"
        },
        "id": "yYMNqLEh_hxn",
        "outputId": "4e887917-1a70-4cba-d4ea-0b567e8a3f6a"
      },
      "execution_count": 11,
      "outputs": [
        {
          "output_type": "stream",
          "name": "stdout",
          "text": [
            "Pipeline(steps=[('count_vectorizer', CountVectorizer()),\n",
            "                ('tfidf_vectorizer', TfidfTransformer()),\n",
            "                ('clf', MultinomialNB())])\n",
            "Pipeline(steps=[('count_vectorizer', CountVectorizer()),\n",
            "                ('tfidf_vectorizer', TfidfTransformer()),\n",
            "                ('clf', GradientBoostingClassifier(learning_rate=0.3))])\n",
            "Pipeline(steps=[('count_vectorizer', CountVectorizer()),\n",
            "                ('tfidf_vectorizer', TfidfTransformer()),\n",
            "                ('clf', RandomForestClassifier())])\n",
            "Pipeline(steps=[('count_vectorizer', CountVectorizer()),\n",
            "                ('tfidf_vectorizer', TfidfTransformer()),\n",
            "                ('clf', AdaBoostClassifier(learning_rate=0.3))])\n",
            "Pipeline(steps=[('count_vectorizer', CountVectorizer()),\n",
            "                ('tfidf_vectorizer', TfidfTransformer()),\n",
            "                ('clf', KNeighborsClassifier())])\n",
            "Multinomail NB pipeline test accuracy: 0.670\n",
            "Gboost pipeline test accuracy: 0.777\n",
            "Random Forest pipeline test accuracy: 0.780\n",
            "ADA pipeline test accuracy: 0.440\n",
            "KNN pipeline test accuracy: 0.618\n"
          ]
        }
      ]
    },
    {
      "cell_type": "code",
      "source": [
        "models_stem = [item[0] for item in basic_scores]\n",
        "accuracy_stem = [item[1] for item in basic_scores]\n",
        "\n",
        "plt.figure(figsize=(10,6))\n",
        "plt.title(\"Basic Model Scores for Stemmed Data\")\n",
        "plt.xlabel(\"Model\")\n",
        "plt.ylabel(\"Accuracy Score\")\n",
        "plt.bar(models_stem, accuracy_stem)"
      ],
      "metadata": {
        "colab": {
          "base_uri": "https://localhost:8080/",
          "height": 422
        },
        "id": "gQcg62YlCG2M",
        "outputId": "3889f939-117d-4724-ef1a-5bf61e68ee0e"
      },
      "execution_count": 12,
      "outputs": [
        {
          "output_type": "execute_result",
          "data": {
            "text/plain": [
              "<BarContainer object of 5 artists>"
            ]
          },
          "metadata": {},
          "execution_count": 12
        },
        {
          "output_type": "display_data",
          "data": {
            "text/plain": [
              "<Figure size 720x432 with 1 Axes>"
            ],
            "image/png": "[encoded data removed]"
          },
          "metadata": {
            "needs_background": "light"
          }
        }
      ]
    },
    {
      "cell_type": "code",
      "source": [
        "lemmed_desc = clean_docs_lemma(desc_list)\n",
        "len(set(nltk.word_tokenize(\" \".join(lemmed_desc))))"
      ],
      "metadata": {
        "colab": {
          "base_uri": "https://localhost:8080/"
        },
        "outputId": "a5243720-de76-4d46-c757-b8bf679b760c",
        "id": "Pwmql1s8Cx3p"
      },
      "execution_count": 13,
      "outputs": [
        {
          "output_type": "execute_result",
          "data": {
            "text/plain": [
              "2587"
            ]
          },
          "metadata": {},
          "execution_count": 13
        }
      ]
    },
    {
      "cell_type": "code",
      "source": [
        "X = lemmed_desc\n",
        "y = f_df['CardType']\n",
        "\n",
        "len(X) == len(y)"
      ],
      "metadata": {
        "colab": {
          "base_uri": "https://localhost:8080/"
        },
        "outputId": "8e20686e-a9fd-4f6e-f913-634e8b1e45c4",
        "id": "C4mceUEpCx3r"
      },
      "execution_count": 14,
      "outputs": [
        {
          "output_type": "execute_result",
          "data": {
            "text/plain": [
              "True"
            ]
          },
          "metadata": {},
          "execution_count": 14
        }
      ]
    },
    {
      "cell_type": "code",
      "source": [
        "from sklearn.model_selection import train_test_split  \n",
        "X_train, X_test, y_train, y_test = train_test_split(lemmed_desc, f_df['CardType'], test_size=0.2, \n",
        "                                                    random_state=18)"
      ],
      "metadata": {
        "id": "B5jXR4csCx3s"
      },
      "execution_count": 15,
      "outputs": []
    },
    {
      "cell_type": "code",
      "source": [
        "pipe_NB = Pipeline([('count_vectorizer', CountVectorizer()),\n",
        "                    ('tfidf_vectorizer', TfidfTransformer()),\n",
        "                    ('clf', MultinomialNB())\n",
        "                    ])\n",
        "\n",
        "pipe_GBoost = Pipeline([('count_vectorizer', CountVectorizer()), \n",
        "                    ('tfidf_vectorizer', TfidfTransformer()),\n",
        "                    ('clf', GradientBoostingClassifier(learning_rate=0.3))\n",
        "                    ])\n",
        "\n",
        "pipe_RF = Pipeline([('count_vectorizer', CountVectorizer()), \n",
        "                    ('tfidf_vectorizer', TfidfTransformer()),\n",
        "                    ('clf', RandomForestClassifier())\n",
        "                    ])\n",
        "\n",
        "pipe_ADA = Pipeline([('count_vectorizer', CountVectorizer()), \n",
        "                    ('tfidf_vectorizer', TfidfTransformer()),\n",
        "                    ('clf', AdaBoostClassifier(learning_rate=0.3))\n",
        "                    ])\n",
        "\n",
        "\n",
        "pipe_KNN = Pipeline([('count_vectorizer', CountVectorizer()), \n",
        "                    ('tfidf_vectorizer', TfidfTransformer()),\n",
        "                    ('clf', KNeighborsClassifier())\n",
        "                    ])\n",
        "\n",
        "pipelines = [pipe_NB, pipe_GBoost, pipe_RF, pipe_ADA, pipe_KNN]\n",
        "pipeline_names = ['Multinomail NB', \"Gboost\", 'Random Forest', 'ADA', \"KNN\"]\n",
        "\n",
        "for pipe in pipelines:\n",
        "  print(pipe)\n",
        "  pipe.fit(X_train, y_train)\n",
        "\n",
        "lem_basic_scores = []\n",
        "for index, val in enumerate(pipelines):\n",
        "  tup = (pipeline_names[index], val.score(X_test, y_test))\n",
        "  lem_basic_scores.append(tup)\n",
        "  print('%s pipeline test accuracy: %.3f' % (pipeline_names[index], val.score(X_test, y_test)))"
      ],
      "metadata": {
        "colab": {
          "base_uri": "https://localhost:8080/"
        },
        "id": "JnMZDz4rDOPY",
        "outputId": "8aec3a69-f170-4bd8-8e6a-b325a0d62e6f"
      },
      "execution_count": 16,
      "outputs": [
        {
          "output_type": "stream",
          "name": "stdout",
          "text": [
            "Pipeline(steps=[('count_vectorizer', CountVectorizer()),\n",
            "                ('tfidf_vectorizer', TfidfTransformer()),\n",
            "                ('clf', MultinomialNB())])\n",
            "Pipeline(steps=[('count_vectorizer', CountVectorizer()),\n",
            "                ('tfidf_vectorizer', TfidfTransformer()),\n",
            "                ('clf', GradientBoostingClassifier(learning_rate=0.3))])\n",
            "Pipeline(steps=[('count_vectorizer', CountVectorizer()),\n",
            "                ('tfidf_vectorizer', TfidfTransformer()),\n",
            "                ('clf', RandomForestClassifier())])\n",
            "Pipeline(steps=[('count_vectorizer', CountVectorizer()),\n",
            "                ('tfidf_vectorizer', TfidfTransformer()),\n",
            "                ('clf', AdaBoostClassifier(learning_rate=0.3))])\n",
            "Pipeline(steps=[('count_vectorizer', CountVectorizer()),\n",
            "                ('tfidf_vectorizer', TfidfTransformer()),\n",
            "                ('clf', KNeighborsClassifier())])\n",
            "Multinomail NB pipeline test accuracy: 0.662\n",
            "Gboost pipeline test accuracy: 0.775\n",
            "Random Forest pipeline test accuracy: 0.765\n",
            "ADA pipeline test accuracy: 0.415\n",
            "KNN pipeline test accuracy: 0.610\n"
          ]
        }
      ]
    },
    {
      "cell_type": "code",
      "source": [
        "modles_lem = [item[0] for item in lem_basic_scores]\n",
        "accuracy_lem = [item[1] for item in lem_basic_scores]\n",
        "\n",
        "\n",
        "import numpy as np\n",
        "import matplotlib.pyplot as plt\n",
        "from matplotlib.ticker import MaxNLocator\n",
        "from collections import namedtuple\n",
        "\n",
        "\n",
        "n_groups = 5\n",
        "\n",
        "means_men = (20, 35, 30, 35, 27)\n",
        "std_men = (2, 3, 4, 1, 2)\n",
        "\n",
        "means_women = (25, 32, 34, 20, 25)\n",
        "std_women = (3, 5, 2, 3, 3)\n",
        "\n",
        "\n",
        "fig, ax = plt.subplots(figsize = (12, 8))\n",
        "\n",
        "\n",
        "index = np.arange(n_groups)\n",
        "bar_width = 0.35\n",
        "\n",
        "opacity = 0.5\n",
        "error_config = {'ecolor': '0.3'}\n",
        "\n",
        "lemmed_bars = ax.bar(index, accuracy_lem, bar_width,\n",
        "                alpha=opacity, color='b',\n",
        "                label='Lematized')\n",
        "\n",
        "stemmed_bars = ax.bar(index + bar_width, accuracy_stem, bar_width,\n",
        "                alpha=opacity, color='r',\n",
        "                label='Stemmatized')\n",
        "\n",
        "ax.set_xlabel('Model Type', fontsize = 14)\n",
        "ax.set_ylabel('Accuracy Scores', fontsize = 14)\n",
        "ax.set_title('Stemmed vs. Lemmed Accuracy Score Comparison', fontsize = 18)\n",
        "ax.set_xticks(index + bar_width / 2)\n",
        "ax.set_xticklabels(modles_lem)\n",
        "\n",
        "plt.axhline(y=1/len(set(y)), color='#17CA83', linestyle='-', label = \"Random Guessing\")\n",
        "ax.legend()\n",
        "\n",
        "\n",
        "plt.show()"
      ],
      "metadata": {
        "colab": {
          "base_uri": "https://localhost:8080/",
          "height": 521
        },
        "id": "Xns0iqu4DpqO",
        "outputId": "e62ae26b-f5a7-41a6-b556-7a6bbf7e2e70"
      },
      "execution_count": 17,
      "outputs": [
        {
          "output_type": "display_data",
          "data": {
            "text/plain": [
              "<Figure size 864x576 with 1 Axes>"
            ],
            "image/png": "[encoded data removed]"
          },
          "metadata": {
            "needs_background": "light"
          }
        }
      ]
    },
    {
      "cell_type": "code",
      "source": [
        "tfidf = TfidfVectorizer()\n",
        "response = tfidf.fit_transform(lemmed_desc)\n",
        "\n",
        "PCA_df = pd.DataFrame(response.toarray(), columns=tfidf.get_feature_names())\n",
        "PCA_df.shape"
      ],
      "metadata": {
        "colab": {
          "base_uri": "https://localhost:8080/"
        },
        "id": "8J1wIG1jD4CJ",
        "outputId": "9ee8ebd8-bb13-4ab6-ad94-8a2c575611c0"
      },
      "execution_count": 18,
      "outputs": [
        {
          "output_type": "stream",
          "name": "stderr",
          "text": [
            "/usr/local/lib/python3.7/dist-packages/sklearn/utils/deprecation.py:87: FutureWarning: Function get_feature_names is deprecated; get_feature_names is deprecated in 1.0 and will be removed in 1.2. Please use get_feature_names_out instead.\n",
            "  warnings.warn(msg, category=FutureWarning)\n"
          ]
        },
        {
          "output_type": "execute_result",
          "data": {
            "text/plain": [
              "(2000, 2573)"
            ]
          },
          "metadata": {},
          "execution_count": 18
        }
      ]
    },
    {
      "cell_type": "code",
      "source": [
        "DATA = response  # this comes from above where you're vectorizing tdif dictionary\n",
        "\n",
        "non_zero_cols = DATA.nnz / float(DATA.shape[0])\n",
        "print(\"Average Number of Non-Zero Elements in Vectorized Articles: {}\".format(non_zero_cols))\n",
        "\n",
        "percent_sparse = 1 - (non_zero_cols / float(DATA.shape[1]))\n",
        "print('Percentage of columns containing 0: {}'.format(percent_sparse))"
      ],
      "metadata": {
        "colab": {
          "base_uri": "https://localhost:8080/"
        },
        "id": "aKYDmb4dEVMZ",
        "outputId": "78f322f1-3248-4c16-ed4b-5edbfcf2c676"
      },
      "execution_count": 19,
      "outputs": [
        {
          "output_type": "stream",
          "name": "stdout",
          "text": [
            "Average Number of Non-Zero Elements in Vectorized Articles: 19.201\n",
            "Percentage of columns containing 0: 0.9925375048581423\n"
          ]
        }
      ]
    },
    {
      "cell_type": "code",
      "source": [
        "PCA_df.head()"
      ],
      "metadata": {
        "colab": {
          "base_uri": "https://localhost:8080/",
          "height": 236
        },
        "id": "YkCibFe8EfDl",
        "outputId": "08a1f73b-7db6-4218-d3b5-9fc4262dd6e0"
      },
      "execution_count": 20,
      "outputs": [
        {
          "output_type": "execute_result",
          "data": {
            "text/plain": [
              "   ability  ablaze  able  abomination  absolute  absolutely  abundant  \\\n",
              "0      0.0     0.0   0.0          0.0       0.0         0.0       0.0   \n",
              "1      0.0     0.0   0.0          0.0       0.0         0.0       0.0   \n",
              "2      0.0     0.0   0.0          0.0       0.0         0.0       0.0   \n",
              "3      0.0     0.0   0.0          0.0       0.0         0.0       0.0   \n",
              "4      0.0     0.0   0.0          0.0       0.0         0.0       0.0   \n",
              "\n",
              "      abyss  abyssalacia  abyssleed  ...  zera  zero  zerrziel  zhang  zing  \\\n",
              "0  0.000000          0.0        0.0  ...   0.0   0.0       0.0    0.0   0.0   \n",
              "1  0.000000          0.0        0.0  ...   0.0   0.0       0.0    0.0   0.0   \n",
              "2  0.518826          0.0        0.0  ...   0.0   0.0       0.0    0.0   0.0   \n",
              "3  0.546837          0.0        0.0  ...   0.0   0.0       0.0    0.0   0.0   \n",
              "4  0.650907          0.0        0.0  ...   0.0   0.0       0.0    0.0   0.0   \n",
              "\n",
              "   zombie  zombyra      zone  zoodiac   zw  \n",
              "0     0.0      0.0  0.000000      0.0  0.0  \n",
              "1     0.0      0.0  0.000000      0.0  0.0  \n",
              "2     0.0      0.0  0.157894      0.0  0.0  \n",
              "3     0.0      0.0  0.110946      0.0  0.0  \n",
              "4     0.0      0.0  0.000000      0.0  0.0  \n",
              "\n",
              "[5 rows x 2573 columns]"
            ],
            "text/html": [
              "\n",
              "  <div id=\"df-4aef9573-77c1-43b8-b7df-54d2ec71aec8\">\n",
              "    <div class=\"colab-df-container\">\n",
              "      <div>\n",
              "<style scoped>\n",
              "    .dataframe tbody tr th:only-of-type {\n",
              "        vertical-align: middle;\n",
              "    }\n",
              "\n",
              "    .dataframe tbody tr th {\n",
              "        vertical-align: top;\n",
              "    }\n",
              "\n",
              "    .dataframe thead th {\n",
              "        text-align: right;\n",
              "    }\n",
              "</style>\n",
              "<table border=\"1\" class=\"dataframe\">\n",
              "  <thead>\n",
              "    <tr style=\"text-align: right;\">\n",
              "      <th></th>\n",
              "      <th>ability</th>\n",
              "      <th>ablaze</th>\n",
              "      <th>able</th>\n",
              "      <th>abomination</th>\n",
              "      <th>absolute</th>\n",
              "      <th>absolutely</th>\n",
              "      <th>abundant</th>\n",
              "      <th>abyss</th>\n",
              "      <th>abyssalacia</th>\n",
              "      <th>abyssleed</th>\n",
              "      <th>...</th>\n",
              "      <th>zera</th>\n",
              "      <th>zero</th>\n",
              "      <th>zerrziel</th>\n",
              "      <th>zhang</th>\n",
              "      <th>zing</th>\n",
              "      <th>zombie</th>\n",
              "      <th>zombyra</th>\n",
              "      <th>zone</th>\n",
              "      <th>zoodiac</th>\n",
              "      <th>zw</th>\n",
              "    </tr>\n",
              "  </thead>\n",
              "  <tbody>\n",
              "    <tr>\n",
              "      <th>0</th>\n",
              "      <td>0.0</td>\n",
              "      <td>0.0</td>\n",
              "      <td>0.0</td>\n",
              "      <td>0.0</td>\n",
              "      <td>0.0</td>\n",
              "      <td>0.0</td>\n",
              "      <td>0.0</td>\n",
              "      <td>0.000000</td>\n",
              "      <td>0.0</td>\n",
              "      <td>0.0</td>\n",
              "      <td>...</td>\n",
              "      <td>0.0</td>\n",
              "      <td>0.0</td>\n",
              "      <td>0.0</td>\n",
              "      <td>0.0</td>\n",
              "      <td>0.0</td>\n",
              "      <td>0.0</td>\n",
              "      <td>0.0</td>\n",
              "      <td>0.000000</td>\n",
              "      <td>0.0</td>\n",
              "      <td>0.0</td>\n",
              "    </tr>\n",
              "    <tr>\n",
              "      <th>1</th>\n",
              "      <td>0.0</td>\n",
              "      <td>0.0</td>\n",
              "      <td>0.0</td>\n",
              "      <td>0.0</td>\n",
              "      <td>0.0</td>\n",
              "      <td>0.0</td>\n",
              "      <td>0.0</td>\n",
              "      <td>0.000000</td>\n",
              "      <td>0.0</td>\n",
              "      <td>0.0</td>\n",
              "      <td>...</td>\n",
              "      <td>0.0</td>\n",
              "      <td>0.0</td>\n",
              "      <td>0.0</td>\n",
              "      <td>0.0</td>\n",
              "      <td>0.0</td>\n",
              "      <td>0.0</td>\n",
              "      <td>0.0</td>\n",
              "      <td>0.000000</td>\n",
              "      <td>0.0</td>\n",
              "      <td>0.0</td>\n",
              "    </tr>\n",
              "    <tr>\n",
              "      <th>2</th>\n",
              "      <td>0.0</td>\n",
              "      <td>0.0</td>\n",
              "      <td>0.0</td>\n",
              "      <td>0.0</td>\n",
              "      <td>0.0</td>\n",
              "      <td>0.0</td>\n",
              "      <td>0.0</td>\n",
              "      <td>0.518826</td>\n",
              "      <td>0.0</td>\n",
              "      <td>0.0</td>\n",
              "      <td>...</td>\n",
              "      <td>0.0</td>\n",
              "      <td>0.0</td>\n",
              "      <td>0.0</td>\n",
              "      <td>0.0</td>\n",
              "      <td>0.0</td>\n",
              "      <td>0.0</td>\n",
              "      <td>0.0</td>\n",
              "      <td>0.157894</td>\n",
              "      <td>0.0</td>\n",
              "      <td>0.0</td>\n",
              "    </tr>\n",
              "    <tr>\n",
              "      <th>3</th>\n",
              "      <td>0.0</td>\n",
              "      <td>0.0</td>\n",
              "      <td>0.0</td>\n",
              "      <td>0.0</td>\n",
              "      <td>0.0</td>\n",
              "      <td>0.0</td>\n",
              "      <td>0.0</td>\n",
              "      <td>0.546837</td>\n",
              "      <td>0.0</td>\n",
              "      <td>0.0</td>\n",
              "      <td>...</td>\n",
              "      <td>0.0</td>\n",
              "      <td>0.0</td>\n",
              "      <td>0.0</td>\n",
              "      <td>0.0</td>\n",
              "      <td>0.0</td>\n",
              "      <td>0.0</td>\n",
              "      <td>0.0</td>\n",
              "      <td>0.110946</td>\n",
              "      <td>0.0</td>\n",
              "      <td>0.0</td>\n",
              "    </tr>\n",
              "    <tr>\n",
              "      <th>4</th>\n",
              "      <td>0.0</td>\n",
              "      <td>0.0</td>\n",
              "      <td>0.0</td>\n",
              "      <td>0.0</td>\n",
              "      <td>0.0</td>\n",
              "      <td>0.0</td>\n",
              "      <td>0.0</td>\n",
              "      <td>0.650907</td>\n",
              "      <td>0.0</td>\n",
              "      <td>0.0</td>\n",
              "      <td>...</td>\n",
              "      <td>0.0</td>\n",
              "      <td>0.0</td>\n",
              "      <td>0.0</td>\n",
              "      <td>0.0</td>\n",
              "      <td>0.0</td>\n",
              "      <td>0.0</td>\n",
              "      <td>0.0</td>\n",
              "      <td>0.000000</td>\n",
              "      <td>0.0</td>\n",
              "      <td>0.0</td>\n",
              "    </tr>\n",
              "  </tbody>\n",
              "</table>\n",
              "<p>5 rows × 2573 columns</p>\n",
              "</div>\n",
              "      <button class=\"colab-df-convert\" onclick=\"convertToInteractive('df-4aef9573-77c1-43b8-b7df-54d2ec71aec8')\"\n",
              "              title=\"Convert this dataframe to an interactive table.\"\n",
              "              style=\"display:none;\">\n",
              "        \n",
              "  <svg xmlns=\"http://www.w3.org/2000/svg\" height=\"24px\"viewBox=\"0 0 24 24\"\n",
              "       width=\"24px\">\n",
              "    <path d=\"M0 0h24v24H0V0z\" fill=\"none\"/>\n",
              "    <path d=\"M18.56 5.44l.94 2.06.94-2.06 2.06-.94-2.06-.94-.94-2.06-.94 2.06-2.06.94zm-11 1L8.5 8.5l.94-2.06 2.06-.94-2.06-.94L8.5 2.5l-.94 2.06-2.06.94zm10 10l.94 2.06.94-2.06 2.06-.94-2.06-.94-.94-2.06-.94 2.06-2.06.94z\"/><path d=\"M17.41 7.96l-1.37-1.37c-.4-.4-.92-.59-1.43-.59-.52 0-1.04.2-1.43.59L10.3 9.45l-7.72 7.72c-.78.78-.78 2.05 0 2.83L4 21.41c.39.39.9.59 1.41.59.51 0 1.02-.2 1.41-.59l7.78-7.78 2.81-2.81c.8-.78.8-2.07 0-2.86zM5.41 20L4 18.59l7.72-7.72 1.47 1.35L5.41 20z\"/>\n",
              "  </svg>\n",
              "      </button>\n",
              "      \n",
              "  <style>\n",
              "    .colab-df-container {\n",
              "      display:flex;\n",
              "      flex-wrap:wrap;\n",
              "      gap: 12px;\n",
              "    }\n",
              "\n",
              "    .colab-df-convert {\n",
              "      background-color: #E8F0FE;\n",
              "      border: none;\n",
              "      border-radius: 50%;\n",
              "      cursor: pointer;\n",
              "      display: none;\n",
              "      fill: #1967D2;\n",
              "      height: 32px;\n",
              "      padding: 0 0 0 0;\n",
              "      width: 32px;\n",
              "    }\n",
              "\n",
              "    .colab-df-convert:hover {\n",
              "      background-color: #E2EBFA;\n",
              "      box-shadow: 0px 1px 2px rgba(60, 64, 67, 0.3), 0px 1px 3px 1px rgba(60, 64, 67, 0.15);\n",
              "      fill: #174EA6;\n",
              "    }\n",
              "\n",
              "    [theme=dark] .colab-df-convert {\n",
              "      background-color: #3B4455;\n",
              "      fill: #D2E3FC;\n",
              "    }\n",
              "\n",
              "    [theme=dark] .colab-df-convert:hover {\n",
              "      background-color: #434B5C;\n",
              "      box-shadow: 0px 1px 3px 1px rgba(0, 0, 0, 0.15);\n",
              "      filter: drop-shadow(0px 1px 2px rgba(0, 0, 0, 0.3));\n",
              "      fill: #FFFFFF;\n",
              "    }\n",
              "  </style>\n",
              "\n",
              "      <script>\n",
              "        const buttonEl =\n",
              "          document.querySelector('#df-4aef9573-77c1-43b8-b7df-54d2ec71aec8 button.colab-df-convert');\n",
              "        buttonEl.style.display =\n",
              "          google.colab.kernel.accessAllowed ? 'block' : 'none';\n",
              "\n",
              "        async function convertToInteractive(key) {\n",
              "          const element = document.querySelector('#df-4aef9573-77c1-43b8-b7df-54d2ec71aec8');\n",
              "          const dataTable =\n",
              "            await google.colab.kernel.invokeFunction('convertToInteractive',\n",
              "                                                     [key], {});\n",
              "          if (!dataTable) return;\n",
              "\n",
              "          const docLinkHtml = 'Like what you see? Visit the ' +\n",
              "            '<a target=\"_blank\" href=https://colab.research.google.com/notebooks/data_table.ipynb>data table notebook</a>'\n",
              "            + ' to learn more about interactive tables.';\n",
              "          element.innerHTML = '';\n",
              "          dataTable['output_type'] = 'display_data';\n",
              "          await google.colab.output.renderOutput(dataTable, element);\n",
              "          const docLink = document.createElement('div');\n",
              "          docLink.innerHTML = docLinkHtml;\n",
              "          element.appendChild(docLink);\n",
              "        }\n",
              "      </script>\n",
              "    </div>\n",
              "  </div>\n",
              "  "
            ]
          },
          "metadata": {},
          "execution_count": 20
        }
      ]
    },
    {
      "cell_type": "code",
      "source": [
        "X_pca = PCA_df\n",
        "y_pca = f_df['CardType']\n",
        "\n",
        "len(X_pca) == len(y_pca)"
      ],
      "metadata": {
        "colab": {
          "base_uri": "https://localhost:8080/"
        },
        "id": "RHGR03PMEf1Y",
        "outputId": "d274d108-ca33-42a6-996b-1bc4decb5708"
      },
      "execution_count": 21,
      "outputs": [
        {
          "output_type": "execute_result",
          "data": {
            "text/plain": [
              "True"
            ]
          },
          "metadata": {},
          "execution_count": 21
        }
      ]
    },
    {
      "cell_type": "code",
      "source": [
        "X_train_pca, X_test_pca, y_train_pca, y_test_pca = train_test_split(X_pca, y_pca, test_size=0.2, random_state=18) "
      ],
      "metadata": {
        "id": "UNDRIUFYEnyB"
      },
      "execution_count": 22,
      "outputs": []
    },
    {
      "cell_type": "code",
      "source": [
        "from sklearn.decomposition import PCA\n",
        "pca_1 = PCA(n_components=500)\n",
        "pca_2 = PCA(n_components=1000)\n",
        "pca_3 = PCA(n_components=1300)\n",
        "pca_4 = PCA(n_components=1700)\n",
        "\n",
        "principalComponents = pca_1.fit_transform(X_pca)\n",
        "principalComponents = pca_2.fit_transform(X_pca)\n",
        "principalComponents = pca_3.fit_transform(X_pca)\n",
        "principalComponents = pca_4.fit_transform(X_pca)\n",
        "\n",
        "print(np.sum(pca_1.explained_variance_ratio_))\n",
        "print(np.sum(pca_2.explained_variance_ratio_))\n",
        "print(np.sum(pca_3.explained_variance_ratio_))\n",
        "print(np.sum(pca_4.explained_variance_ratio_))"
      ],
      "metadata": {
        "colab": {
          "base_uri": "https://localhost:8080/"
        },
        "id": "Nc_ryn8_GJny",
        "outputId": "bd2fc025-eeb5-40e2-f2f8-9e1b3557cffb"
      },
      "execution_count": 23,
      "outputs": [
        {
          "output_type": "stream",
          "name": "stdout",
          "text": [
            "0.8655763593236803\n",
            "0.9816212225727512\n",
            "0.9976880472339972\n",
            "1.0\n"
          ]
        }
      ]
    },
    {
      "cell_type": "markdown",
      "source": [
        "Takes a long time"
      ],
      "metadata": {
        "id": "nNrp_pB2IYrI"
      }
    },
    {
      "cell_type": "code",
      "source": [
        "# pipe_NB_pca = Pipeline([('pca', PCA(n_components=1300, random_state=18)),\n",
        "#                      ('clf', GaussianNB())\n",
        "#                     ])\n",
        "\n",
        "# pipe_RF_pca = Pipeline([('pca', PCA(n_components=1300, random_state=18)),\n",
        "#                      ('clf', RandomForestClassifier(n_jobs = -1))\n",
        "#                    ])\n",
        "                  \n",
        "# pipe_GBoost_pca = Pipeline([('pca', PCA(n_components=1300, random_state=18)),\n",
        "#                      ('clf', GradientBoostingClassifier(learning_rate=0.3))\n",
        "#                     ])\n",
        "\n",
        "\n",
        "# # List of pipelines, List of pipeline names\n",
        "# pipelines = [pipe_NB_pca, pipe_RF_pca, pipe_GBoost_pca]\n",
        "# pipeline_names = ['Multinomial NB', \"Random Forest\", \"Gradient Boost\"]\n",
        "\n",
        "# # Loop to fit each of the three pipelines\n",
        "# for pipe in pipelines:\n",
        "#     print(pipe)\n",
        "#     pipe.fit(X_train_pca, y_train_pca)\n",
        "\n",
        "# # Compare accuracies\n",
        "# PCA_scores = []\n",
        "#  \n",
        "# for index, val in enumerate(pipelines):\n",
        "#     tup = (pipeline_names[index], val.score(X_test_pca, y_test_pca))\n",
        "#     lem_basic_scores.append(tup)\n",
        "#     print('%s pipeline test accuracy: %.3f' % (pipeline_names[index], val.score(X_test_pca, y_test_pca)))\n"
      ],
      "metadata": {
        "id": "kDQ8mQWSGPCA"
      },
      "execution_count": 24,
      "outputs": []
    },
    {
      "cell_type": "code",
      "source": [
        "PCA1300_results = dict(Multinomail_NB = 0.307,\n",
        "Gradient_boost = 0.662,\n",
        "Random_forest =0.690)"
      ],
      "metadata": {
        "id": "Mi4isEdyIX2v"
      },
      "execution_count": 48,
      "outputs": []
    },
    {
      "cell_type": "code",
      "source": [
        "n_groups = 3\n",
        "\n",
        "basic_mod_name = modles_lem[:3]\n",
        "basic_mod_acc = accuracy_lem[:3]\n",
        "pca_models_acc = [item[1] for item in PCA1300_results.items()]\n",
        "\n",
        "fig, ax = plt.subplots(figsize = (10,8))\n",
        "\n",
        "\n",
        "index = np.arange(n_groups)\n",
        "bar_width = 0.35\n",
        "\n",
        "opacity = 0.5\n",
        "error_config = {'ecolor': '0.3'}\n",
        "\n",
        "basic_bars = ax.bar(index, basic_mod_acc, bar_width,\n",
        "                alpha=opacity, color='b',\n",
        "                label='Basic Model')\n",
        "\n",
        "pca_bars = ax.bar(index + bar_width, pca_models_acc , bar_width,\n",
        "                alpha=opacity, color='r',\n",
        "                label='PCA n_components = 1300')\n",
        "\n",
        "ax.set_xlabel('Model Type', fontsize = 14)\n",
        "ax.set_ylabel('Accuracy Scores', fontsize = 14)\n",
        "ax.set_title('Basic Model vs. PCA with n = 1300 Model Comparison', fontsize = 18)\n",
        "ax.set_xticks(index + bar_width / 2)\n",
        "ax.set_xticklabels(basic_mod_name)\n",
        "\n",
        "plt.axhline(y=1/len(set(y)), color='#17CA83', linestyle='-', label = \"Random Guessing\")\n",
        "ax.legend()\n",
        "plt.show()"
      ],
      "metadata": {
        "id": "4-39rlqzIy9x",
        "colab": {
          "base_uri": "https://localhost:8080/",
          "height": 521
        },
        "outputId": "ea7c06ea-5b58-4b95-cdf8-ee3347f189a6"
      },
      "execution_count": 49,
      "outputs": [
        {
          "output_type": "display_data",
          "data": {
            "text/plain": [
              "<Figure size 720x576 with 1 Axes>"
            ],
            "image/png": "[encoded data removed]"
          },
          "metadata": {
            "needs_background": "light"
          }
        }
      ]
    },
    {
      "cell_type": "code",
      "source": [
        "Top3_pipelines = [pipe_NB, pipe_GBoost, pipe_RF]\n",
        "Top3_pipeline_names = ['Multinomail NB', \"Gboost\", 'Random Forest']"
      ],
      "metadata": {
        "id": "nKAdk8UdJJzm"
      },
      "execution_count": 27,
      "outputs": []
    },
    {
      "cell_type": "code",
      "source": [
        "from sklearn.model_selection import GridSearchCV\n",
        "from sklearn.metrics import classification_report\n",
        "\n",
        "GS_pipe_RF = Pipeline([('count_vectorizer', CountVectorizer()), \n",
        "                     ('tfidf_vectorizer', TfidfTransformer()),\n",
        "                     ('clf', RandomForestClassifier())\n",
        "                    ])\n",
        "\n",
        "sorted(GS_pipe_RF.get_params().keys())\n",
        "\n",
        "rf_param_grid = dict(clf__n_estimators = [10, 30, 100], clf__criterion = ['gini', 'entropy'], \n",
        "                    clf__max_depth = [2, 6, 10], clf__min_samples_split = [5, 10],\n",
        "                    clf__min_samples_leaf = [3, 6])\n",
        "\n",
        "\n",
        "gs_RF = GridSearchCV(estimator=GS_pipe_RF,\n",
        "            param_grid=rf_param_grid,\n",
        "            scoring='accuracy',\n",
        "            cv=3,\n",
        "            return_train_score=True)\n",
        "\n",
        "grid_result = gs_RF.fit(X_train, y_train)\n",
        "\n",
        "dt_gs_testing_score = gs_RF.score(X_test, y_test)\n",
        "\n",
        "print(\"Mean Testing Score: {:.4}%\".format(dt_gs_testing_score * 100))\n",
        "print(\"Best Parameter Combination Found During Grid Search: {}\".format(gs_RF.best_params_))\n",
        "\n",
        "gs_RF_predictions = gs_RF.predict(X_test) \n",
        "  \n",
        "#print classification report \n",
        "print(classification_report(y_test, gs_RF_predictions)) "
      ],
      "metadata": {
        "colab": {
          "base_uri": "https://localhost:8080/"
        },
        "id": "5vL9QXVRJQUa",
        "outputId": "28d41876-c021-4de0-a199-75b59d4dea90"
      },
      "execution_count": 28,
      "outputs": [
        {
          "output_type": "stream",
          "name": "stdout",
          "text": [
            "Mean Testing Score: 70.5%\n",
            "Best Parameter Combination Found During Grid Search: {'clf__criterion': 'entropy', 'clf__max_depth': 10, 'clf__min_samples_leaf': 3, 'clf__min_samples_split': 5, 'clf__n_estimators': 100}\n",
            "                 precision    recall  f1-score   support\n",
            "\n",
            " Effect Monster       0.52      0.34      0.41        47\n",
            " Fusion Monster       0.73      0.54      0.62        41\n",
            "   Link Monster       0.63      0.88      0.73        50\n",
            " Normal Monster       0.61      0.96      0.74        48\n",
            "          Spell       0.63      0.33      0.43        52\n",
            "Synchro Monster       0.94      1.00      0.97        66\n",
            "           Trap       0.52      0.47      0.49        47\n",
            "    XYZ Monster       0.91      1.00      0.95        49\n",
            "\n",
            "       accuracy                           0.70       400\n",
            "      macro avg       0.69      0.69      0.67       400\n",
            "   weighted avg       0.70      0.70      0.68       400\n",
            "\n"
          ]
        }
      ]
    },
    {
      "cell_type": "code",
      "source": [
        "Grid_RF_metrics = dict(test_score = dt_gs_testing_score, best_params = gs_RF.best_params_)\n",
        "Grid_RF_metrics"
      ],
      "metadata": {
        "colab": {
          "base_uri": "https://localhost:8080/"
        },
        "id": "WWq4FG86JYtS",
        "outputId": "756d8ff5-1097-4d08-cbea-3c7f315c81c2"
      },
      "execution_count": 29,
      "outputs": [
        {
          "output_type": "execute_result",
          "data": {
            "text/plain": [
              "{'test_score': 0.705,\n",
              " 'best_params': {'clf__criterion': 'entropy',\n",
              "  'clf__max_depth': 10,\n",
              "  'clf__min_samples_leaf': 3,\n",
              "  'clf__min_samples_split': 5,\n",
              "  'clf__n_estimators': 100}}"
            ]
          },
          "metadata": {},
          "execution_count": 29
        }
      ]
    },
    {
      "cell_type": "code",
      "source": [
        "GS_pipe_GB = Pipeline([('count_vectorizer', CountVectorizer()), \n",
        "                     ('tfidf_vectorizer', TfidfTransformer()),\n",
        "                     ('clf', GradientBoostingClassifier())\n",
        "                    ])\n",
        "# sorted(GS_pipe_RF.get_params().keys())\n",
        "\n",
        "GB_params = {\n",
        "    \"clf__learning_rate\": [0.2, 0.25],\n",
        "    \"clf__min_samples_split\": [4, 5],\n",
        "    \"clf__min_samples_leaf\": [6],\n",
        "    \"clf__max_depth\":[3],\n",
        "    \"clf__n_estimators\":[100, 150]\n",
        "    }\n",
        "\n",
        "gs_GB = GridSearchCV(estimator=GS_pipe_GB,\n",
        "            param_grid=GB_params,\n",
        "            scoring='accuracy',\n",
        "            cv=3)\n",
        "\n",
        "gs_GB.fit(X_train, y_train)\n",
        "\n",
        "dt_GB_testing_score = gs_GB.score(X_test, y_test)\n",
        "print(\"Mean Testing Score: {:.4}%\".format(dt_GB_testing_score * 100))\n",
        "print(\"Best Parameter Combination Found During Grid Search: {}\".format(gs_GB.best_params_))\n",
        "\n",
        "gs_GB_predictions = gs_GB.predict(X_test) \n",
        "  \n",
        "#print classification report \n",
        "print(classification_report(y_test, gs_GB_predictions)) "
      ],
      "metadata": {
        "colab": {
          "base_uri": "https://localhost:8080/"
        },
        "id": "PZHRtSxTQnzf",
        "outputId": "4a45d4e5-6960-4d4d-c5e6-aee613f45ab9"
      },
      "execution_count": 30,
      "outputs": [
        {
          "output_type": "stream",
          "name": "stdout",
          "text": [
            "Mean Testing Score: 76.5%\n",
            "Best Parameter Combination Found During Grid Search: {'clf__learning_rate': 0.25, 'clf__max_depth': 3, 'clf__min_samples_leaf': 6, 'clf__min_samples_split': 4, 'clf__n_estimators': 150}\n",
            "                 precision    recall  f1-score   support\n",
            "\n",
            " Effect Monster       0.59      0.51      0.55        47\n",
            " Fusion Monster       0.71      0.66      0.68        41\n",
            "   Link Monster       0.88      0.90      0.89        50\n",
            " Normal Monster       0.91      0.90      0.91        48\n",
            "          Spell       0.50      0.50      0.50        52\n",
            "Synchro Monster       1.00      1.00      1.00        66\n",
            "           Trap       0.49      0.57      0.53        47\n",
            "    XYZ Monster       0.96      0.98      0.97        49\n",
            "\n",
            "       accuracy                           0.77       400\n",
            "      macro avg       0.76      0.75      0.75       400\n",
            "   weighted avg       0.77      0.77      0.77       400\n",
            "\n"
          ]
        }
      ]
    },
    {
      "cell_type": "code",
      "source": [
        "Grid_GB_metrics = dict(test_score = dt_GB_testing_score, best_params = gs_GB.best_params_)\n",
        "Grid_GB_metrics"
      ],
      "metadata": {
        "colab": {
          "base_uri": "https://localhost:8080/"
        },
        "id": "UkO07HioRBrh",
        "outputId": "cf2c9edc-11c4-4401-9abb-aa7fba75542b"
      },
      "execution_count": 31,
      "outputs": [
        {
          "output_type": "execute_result",
          "data": {
            "text/plain": [
              "{'test_score': 0.765,\n",
              " 'best_params': {'clf__learning_rate': 0.25,\n",
              "  'clf__max_depth': 3,\n",
              "  'clf__min_samples_leaf': 6,\n",
              "  'clf__min_samples_split': 4,\n",
              "  'clf__n_estimators': 150}}"
            ]
          },
          "metadata": {},
          "execution_count": 31
        }
      ]
    },
    {
      "cell_type": "code",
      "source": [
        "def test_type(desc):\n",
        "  lemmed_test = clean_docs_lemma(desc)\n",
        "  print(\"This card is a {} card!\".format(gs_RF.predict(lemmed_test)[0]))"
      ],
      "metadata": {
        "id": "ursu1rTeTrVO"
      },
      "execution_count": 32,
      "outputs": []
    },
    {
      "cell_type": "code",
      "source": [
        "effectmon_desc = [\"\"\"When this card is Normal Summoned: You can target 1 Level 2 or lower monster in your Graveyard; Special Summon that target in Defense Position, but it has its effects negated.\"\"\"]\n",
        "\n",
        "fusmon_desc = [\"\"\"\"Elemental HERO Avian\" + \"Elemental HERO Burstinatrix\" Must be Fusion Summoned and cannot be Special Summoned by other ways. When this card destroys a monster by battle and sends it to the Graveyard: Inflict damage to your opponent equal to the ATK of the destroyed monster in the Graveyard.\"\"\"]\n",
        "\n",
        "linkmon_desc = [\"\"\"3+ Effect Monsters Cannot be destroyed by battle. Once per turn (Quick Effect): You can target 1 Attack Position monster; change it to Defense Position, also, this card can make a second attack during each Battle Phase this turn. Your opponent cannot activate cards or effects in response to this effect's activation. Once per turn, when this card declares an attack on a face-up monster: You can activate this effect; until the end of this turn, this card gains ATK equal to half that monster's current ATK, and if it does, that monster's current ATK is halved.\"\"\"]\n",
        "\n",
        "normmon_desc = [\"\"\"Everyone is full of possibilities. Everything you do, moving forwards, stopping, closing, opening, is all in your hands.There are many doors in this world. To open them requires the Magic Key... 2 keys and 1 door... 2 wills and 1 body. Once the doors are opened, the worlds will be connected and the great power revealed.\"\"\"]\n",
        "\n",
        "synchmon_desc = [\"\"\"1 Tuner + 1+ non-Tuner monsters If this card is Synchro Summoned: You can banish 1 Level 6 or lower Fish monster from your Deck. If this card is sent to the GY as Synchro Material: You can target 1 Fish monster in your GY; banish that target, then you can add 1 Fish monster with an equal or lower Level from your Deck to your hand. You can only use each effect of \"Arionpos, Serpent of the Ghoti\" once per turn.\"\"\"]\n",
        "\n",
        "spell_desc = [\"\"\"Add 1 Level 4 or lower Warrior monster from your Deck to your hand.\"\"\"]\n",
        "\n",
        "trap_desc = [\"\"\"When a monster(s) would be Special Summoned, OR a monster effect is activated: Pay 1500 LP; negate the Summon or activation, and if you do, destroy that card.\"\"\"]\n",
        "\n",
        "token_desc = [\"\"\"Special Summoned with the effect of \"Dragonecro Nethersoul Dragon\".\"\"\"]\n",
        "\n",
        "pog_desc = [\"\"\"Draw 2 cards.\"\"\"]"
      ],
      "metadata": {
        "id": "QtKqSnftUHyB"
      },
      "execution_count": 33,
      "outputs": []
    },
    {
      "cell_type": "code",
      "source": [
        "test_type(effectmon_desc)\n",
        "test_type(fusmon_desc)\n",
        "test_type(linkmon_desc)\n",
        "test_type(normmon_desc)\n",
        "test_type(synchmon_desc)\n",
        "test_type(spell_desc)\n",
        "test_type(trap_desc)\n",
        "test_type(token_desc)\n",
        "test_type(pog_desc)\n",
        "\n",
        "clean_docs_lemma(effectmon_desc)"
      ],
      "metadata": {
        "colab": {
          "base_uri": "https://localhost:8080/"
        },
        "id": "2kkRcSTbXJfj",
        "outputId": "66dcff67-8ec0-4766-8e4f-86b0795f7ae8"
      },
      "execution_count": 34,
      "outputs": [
        {
          "output_type": "stream",
          "name": "stdout",
          "text": [
            "This card is a Effect Monster card!\n",
            "This card is a Fusion Monster card!\n",
            "This card is a Link Monster card!\n",
            "This card is a Normal Monster card!\n",
            "This card is a Synchro Monster card!\n",
            "This card is a Normal Monster card!\n",
            "This card is a Trap card!\n",
            "This card is a Normal Monster card!\n",
            "This card is a Normal Monster card!\n"
          ]
        },
        {
          "output_type": "execute_result",
          "data": {
            "text/plain": [
              "['card normal summoned target level lower monster graveyard special summon target defense position effect negated']"
            ]
          },
          "metadata": {},
          "execution_count": 34
        }
      ]
    },
    {
      "cell_type": "code",
      "source": [
        "example1 = [\"\"\"2 Level 12 monsters Once per turn, if an Xyz Monster battled this turn, you can also Xyz Summon \"Divine Arsenal AA-ZEUS - Sky Thunder\" by using 1 Xyz Monster you control as material. (Transfer its materials to this card.) (Quick Effect): You can detach 2 materials from this card; send all other cards from the field to the GY. Once per turn, if another card(s) you control is destroyed by battle or an opponent's card effect: You can attach 1 card from your hand, Deck, or Extra Deck to this card as material.\"\"\"]\n",
        "example2 = [\"\"\"During the Main Phase, if your opponent Normal or Special Summoned 5 or more monsters this turn (Quick Effect): You can Tribute as many face-up monsters on the field as possible, and if you do, Special Summon this card from your hand, then Special Summon 1 \"Primal Being Token\" (Rock/LIGHT/Level 11/ATK ?/DEF ?) to your opponent's field. (This Token's ATK/DEF become the combined original ATK/DEF of the Tributed monsters.) You can only use this effect of \"Nibiru, the Primal Being\" once per turn.\"\"\"]\n",
        "example3 = [\"\"\"Pay 1000 LP; Special Summon 1 Level 5 or lower Fusion Monster from your Extra Deck, but it cannot attack, also it is destroyed during the End Phase. (This is treated as a Fusion Summon.) You can only activate 1 \"Instant Fusion\" per turn.\"\"\"]\n",
        "example4 = [\"\"\"Requires 3 Tributes to Normal Summon (cannot be Normal Set). This card's Normal Summon cannot be negated. When Normal Summoned, cards and effects cannot be activated. Cannot be targeted by Spells, Traps, or card effects. Once per turn, during the End Phase, if this card was Special Summoned: Send it to the Graveyard. You can Tribute 2 monsters; destroy all monsters your opponent controls. This card cannot declare an attack the turn this effect is activated.\"\"\"]\n",
        "test_type(example1)\n",
        "test_type(example2)\n",
        "test_type(example3)\n",
        "test_type(example4)"
      ],
      "metadata": {
        "colab": {
          "base_uri": "https://localhost:8080/"
        },
        "id": "o1io6w0LEuRM",
        "outputId": "5e363dea-20cd-41cc-d324-998388b748df"
      },
      "execution_count": 50,
      "outputs": [
        {
          "output_type": "stream",
          "name": "stdout",
          "text": [
            "This card is a XYZ Monster card!\n",
            "This card is a Link Monster card!\n",
            "This card is a Spell card!\n",
            "This card is a Effect Monster card!\n"
          ]
        }
      ]
    },
    {
      "cell_type": "code",
      "source": [
        "final_top3 = [(\"GradientBoost with GridSearch\", Grid_GB_metrics['test_score']), \n",
        "              basic_scores[0], (\"Random Forest with GridSearch\", basic_scores[2][1])]\n",
        "\n",
        "final_top3"
      ],
      "metadata": {
        "colab": {
          "base_uri": "https://localhost:8080/"
        },
        "id": "EVOmTbmiXcLW",
        "outputId": "d5b04bae-4edf-470b-9e92-2923c19708ad"
      },
      "execution_count": 36,
      "outputs": [
        {
          "output_type": "execute_result",
          "data": {
            "text/plain": [
              "[('GradientBoost with GridSearch', 0.765),\n",
              " ('Multinomail NB', 0.67),\n",
              " ('Random Forest with GridSearch', 0.78)]"
            ]
          },
          "metadata": {},
          "execution_count": 36
        }
      ]
    },
    {
      "cell_type": "code",
      "source": [
        "top3_model = [item[0] for item in final_top3]\n",
        "top3_scores = [item[1] for item in final_top3]\n",
        "\n",
        "plt.figure(figsize=(10,6))\n",
        "plt.title(\"Top3 Models Final Performance\", color ='#061152' , fontsize = 20)\n",
        "plt.ylabel(\"Accuracy Score\", color = '#061152', fontsize = 16)\n",
        "plt.bar(top3_model, top3_scores, color = \"#17CA83\", label = \"Top 3 Models\")\n",
        "\n",
        "plt.axhline(y=1/len(set(y)), color='#AF2138', linestyle='-', label = \"Random Guessing\")\n",
        "plt.legend()\n",
        "\n",
        "plt.show()"
      ],
      "metadata": {
        "colab": {
          "base_uri": "https://localhost:8080/",
          "height": 395
        },
        "id": "9qsR4rPBYgP3",
        "outputId": "9866c6da-dafd-451b-a291-c6db0fc4138a"
      },
      "execution_count": 37,
      "outputs": [
        {
          "output_type": "display_data",
          "data": {
            "text/plain": [
              "<Figure size 720x432 with 1 Axes>"
            ],
            "image/png": "[encoded data removed]"
          },
          "metadata": {
            "needs_background": "light"
          }
        }
      ]
    },
    {
      "cell_type": "code",
      "source": [
        "import gensim\n",
        "from gensim.utils import simple_preprocess\n",
        "from gensim.parsing.preprocessing import STOPWORDS\n",
        "from gensim import corpora, models"
      ],
      "metadata": {
        "id": "Pgt6ZfiWcRp_"
      },
      "execution_count": 38,
      "outputs": []
    },
    {
      "cell_type": "code",
      "source": [
        "len(lemmed_desc)"
      ],
      "metadata": {
        "colab": {
          "base_uri": "https://localhost:8080/"
        },
        "id": "gkr7Ku-cdncQ",
        "outputId": "2e7a17e0-cbf4-4822-ba54-c5b6c579bca0"
      },
      "execution_count": 39,
      "outputs": [
        {
          "output_type": "execute_result",
          "data": {
            "text/plain": [
              "2000"
            ]
          },
          "metadata": {},
          "execution_count": 39
        }
      ]
    },
    {
      "cell_type": "code",
      "source": [
        "import random\n",
        "test = random.sample(lemmed_desc, 1700)\n",
        "lemmed_lyr = [nltk.word_tokenize(doc) for doc in test]\n",
        "\n",
        "lemmed_lyr\n",
        "# test\n",
        "dictionary = gensim.corpora.Dictionary(lemmed_lyr)\n",
        "\n",
        "count = 0\n",
        "for k, v in dictionary.iteritems():\n",
        "    print(k, v)\n",
        "    count += 1\n",
        "    if count > 10:\n",
        "        break\n",
        "\n",
        "dictionary.filter_extremes(no_below=15, no_above=0.5, keep_n=100000)\n",
        "\n",
        "bow_corpus = [dictionary.doc2bow(doc) for doc in lemmed_lyr]"
      ],
      "metadata": {
        "colab": {
          "base_uri": "https://localhost:8080/"
        },
        "id": "CtqAngw0dbYx",
        "outputId": "8e48ca01-eddb-43f6-c696-e74f7844c172"
      },
      "execution_count": 40,
      "outputs": [
        {
          "output_type": "stream",
          "name": "stdout",
          "text": [
            "0 activate\n",
            "1 card\n",
            "2 control\n",
            "3 destroy\n",
            "4 detach\n",
            "5 effect\n",
            "6 face\n",
            "7 field\n",
            "8 level\n",
            "9 material\n",
            "10 monster\n"
          ]
        }
      ]
    },
    {
      "cell_type": "code",
      "source": [
        "lda_model = gensim.models.LdaMulticore(bow_corpus, num_topics=15, id2word=dictionary, passes=2, workers=2)\n",
        "for idx, topic in lda_model.print_topics(-1):\n",
        "  print('Topic: {} \\nWords: {}'.format(idx, topic))"
      ],
      "metadata": {
        "colab": {
          "base_uri": "https://localhost:8080/"
        },
        "id": "Pmj4JxAydk9z",
        "outputId": "8594b2ff-fd00-4154-fed9-c30b236aa8ff"
      },
      "execution_count": 41,
      "outputs": [
        {
          "output_type": "stream",
          "name": "stderr",
          "text": [
            "WARNING:gensim.models.ldamulticore:too few updates, training might not converge; consider increasing the number of passes or iterations to improve accuracy\n"
          ]
        },
        {
          "output_type": "stream",
          "name": "stdout",
          "text": [
            "Topic: 0 \n",
            "Words: 0.057*\"spell\" + 0.050*\"dark\" + 0.047*\"hero\" + 0.037*\"summoned\" + 0.034*\"elemental\" + 0.031*\"special\" + 0.030*\"magician\" + 0.025*\"hand\" + 0.023*\"creature\" + 0.021*\"opponent\"\n",
            "Topic: 1 \n",
            "Words: 0.059*\"level\" + 0.052*\"special\" + 0.041*\"summon\" + 0.036*\"atk\" + 0.035*\"summoned\" + 0.029*\"effect\" + 0.027*\"not\" + 0.025*\"can\" + 0.022*\"per\" + 0.019*\"hero\"\n",
            "Topic: 2 \n",
            "Words: 0.067*\"hand\" + 0.048*\"'s\" + 0.041*\"effect\" + 0.037*\"gy\" + 0.037*\"destroyed\" + 0.029*\"wind\" + 0.027*\"add\" + 0.025*\"opponent\" + 0.025*\"deck\" + 0.023*\"discard\"\n",
            "Topic: 3 \n",
            "Words: 0.046*\"'s\" + 0.045*\"synchro\" + 0.038*\"graveyard\" + 0.036*\"type\" + 0.036*\"effect\" + 0.034*\"summoned\" + 0.026*\"dark\" + 0.025*\"field\" + 0.024*\"opponent\" + 0.020*\"can\"\n",
            "Topic: 4 \n",
            "Words: 0.051*\"target\" + 0.042*\"warrior\" + 0.032*\"control\" + 0.032*\"special\" + 0.029*\"atk\" + 0.029*\"field\" + 0.026*\"fire\" + 0.026*\"summon\" + 0.024*\"effect\" + 0.023*\"summoned\"\n",
            "Topic: 5 \n",
            "Words: 0.085*\"deck\" + 0.050*\"hand\" + 0.038*\"graveyard\" + 0.033*\"per\" + 0.031*\"effect\" + 0.028*\"add\" + 0.023*\"control\" + 0.023*\"summoned\" + 0.022*\"special\" + 0.022*\"extra\"\n",
            "Topic: 6 \n",
            "Words: 0.071*\"xyz\" + 0.066*\"material\" + 0.046*\"effect\" + 0.033*\"opponent\" + 0.033*\"'s\" + 0.033*\"per\" + 0.027*\"level\" + 0.026*\"detach\" + 0.025*\"battle\" + 0.024*\"control\"\n",
            "Topic: 7 \n",
            "Words: 0.059*\"effect\" + 0.051*\"opponent\" + 0.041*\"tuner\" + 0.036*\"special\" + 0.035*\"per\" + 0.031*\"control\" + 0.031*\"field\" + 0.030*\"summon\" + 0.027*\"'s\" + 0.026*\"battle\"\n",
            "Topic: 8 \n",
            "Words: 0.071*\"summon\" + 0.069*\"special\" + 0.057*\"tuner\" + 0.043*\"summoned\" + 0.034*\"gy\" + 0.032*\"synchro\" + 0.030*\"hand\" + 0.029*\"'s\" + 0.026*\"non\" + 0.025*\"opponent\"\n",
            "Topic: 9 \n",
            "Words: 0.059*\"opponent\" + 0.038*\"control\" + 0.038*\"attack\" + 0.038*\"effect\" + 0.034*\"target\" + 0.031*\"'s\" + 0.029*\"face\" + 0.029*\"atk\" + 0.027*\"field\" + 0.024*\"destroy\"\n",
            "Topic: 10 \n",
            "Words: 0.081*\"effect\" + 0.037*\"summon\" + 0.032*\"special\" + 0.031*\"per\" + 0.029*\"gy\" + 0.029*\"control\" + 0.027*\"target\" + 0.027*\"can\" + 0.026*\"opponent\" + 0.026*\"not\"\n",
            "Topic: 11 \n",
            "Words: 0.041*\"effect\" + 0.039*\"special\" + 0.028*\"deck\" + 0.028*\"summon\" + 0.028*\"summoned\" + 0.026*\"hand\" + 0.025*\"level\" + 0.024*\"tuner\" + 0.021*\"per\" + 0.021*\"can\"\n",
            "Topic: 12 \n",
            "Words: 0.156*\"fusion\" + 0.095*\"dragon\" + 0.062*\"summon\" + 0.050*\"eye\" + 0.050*\"material\" + 0.026*\"summoned\" + 0.025*\"gy\" + 0.024*\"control\" + 0.024*\"number\" + 0.023*\"one\"\n",
            "Topic: 13 \n",
            "Words: 0.056*\"opponent\" + 0.045*\"target\" + 0.043*\"'s\" + 0.035*\"effect\" + 0.033*\"control\" + 0.031*\"per\" + 0.030*\"graveyard\" + 0.028*\"gy\" + 0.027*\"special\" + 0.024*\"face\"\n",
            "Topic: 14 \n",
            "Words: 0.083*\"draw\" + 0.052*\"graveyard\" + 0.048*\"hand\" + 0.044*\"deck\" + 0.036*\"summon\" + 0.035*\"counter\" + 0.034*\"battle\" + 0.032*\"dark\" + 0.028*\"special\" + 0.025*\"destroyed\"\n"
          ]
        }
      ]
    },
    {
      "cell_type": "code",
      "source": [
        "tfidf = models.TfidfModel(bow_corpus)\n",
        "corpus_tfidf = tfidf[bow_corpus]\n",
        "\n",
        "lda_model_tfidf = gensim.models.LdaMulticore(corpus_tfidf, num_topics=15, id2word=dictionary, passes=2, workers=4)\n",
        "for idx, topic in lda_model_tfidf.print_topics(-1):\n",
        "    print('Topic: {} Word: {}'.format(idx, topic))"
      ],
      "metadata": {
        "colab": {
          "base_uri": "https://localhost:8080/"
        },
        "id": "Ab5qIy1Id37B",
        "outputId": "52016bc9-4b62-4938-e427-c826104d302e"
      },
      "execution_count": 42,
      "outputs": [
        {
          "output_type": "stream",
          "name": "stderr",
          "text": [
            "WARNING:gensim.models.ldamulticore:too few updates, training might not converge; consider increasing the number of passes or iterations to improve accuracy\n"
          ]
        },
        {
          "output_type": "stream",
          "name": "stdout",
          "text": [
            "Topic: 0 Word: 0.047*\"creature\" + 0.035*\"attack\" + 0.030*\"enemy\" + 0.027*\"fairy\" + 0.021*\"dark\" + 0.021*\"negate\" + 0.020*\"effect\" + 0.020*\"gy\" + 0.017*\"soul\" + 0.016*\"sea\"\n",
            "Topic: 1 Word: 0.040*\"tuner\" + 0.032*\"synchro\" + 0.020*\"water\" + 0.019*\"non\" + 0.018*\"earth\" + 0.018*\"gy\" + 0.017*\"summoned\" + 0.016*\"summon\" + 0.016*\"special\" + 0.016*\"control\"\n",
            "Topic: 2 Word: 0.028*\"spell\" + 0.023*\"trap\" + 0.021*\"tuner\" + 0.020*\"destroy\" + 0.020*\"pendulum\" + 0.019*\"effect\" + 0.019*\"zone\" + 0.018*\"activation\" + 0.017*\"activated\" + 0.017*\"negate\"\n",
            "Topic: 3 Word: 0.040*\"attack\" + 0.022*\"material\" + 0.021*\"activate\" + 0.021*\"xyz\" + 0.020*\"face\" + 0.019*\"level\" + 0.019*\"red\" + 0.019*\"field\" + 0.018*\"position\" + 0.015*\"special\"\n",
            "Topic: 4 Word: 0.043*\"xyz\" + 0.037*\"material\" + 0.027*\"'s\" + 0.026*\"detach\" + 0.022*\"beast\" + 0.020*\"level\" + 0.018*\"deck\" + 0.016*\"effect\" + 0.016*\"face\" + 0.015*\"field\"\n",
            "Topic: 5 Word: 0.046*\"dragon\" + 0.029*\"enemy\" + 0.021*\"battle\" + 0.020*\"damage\" + 0.018*\"attack\" + 0.018*\"tuner\" + 0.016*\"opponent\" + 0.016*\"atk\" + 0.016*\"fiend\" + 0.016*\"another\"\n",
            "Topic: 6 Word: 0.024*\"special\" + 0.021*\"effect\" + 0.021*\"summon\" + 0.020*\"not\" + 0.020*\"can\" + 0.020*\"gy\" + 0.018*\"target\" + 0.018*\"deck\" + 0.016*\"destroyed\" + 0.015*\"except\"\n",
            "Topic: 7 Word: 0.028*\"equip\" + 0.022*\"equipped\" + 0.020*\"effect\" + 0.019*\"field\" + 0.018*\"target\" + 0.018*\"atk\" + 0.017*\"gy\" + 0.016*\"spell\" + 0.015*\"gain\" + 0.015*\"time\"\n",
            "Topic: 8 Word: 0.043*\"type\" + 0.030*\"tuner\" + 0.022*\"warrior\" + 0.022*\"graveyard\" + 0.022*\"position\" + 0.021*\"flip\" + 0.021*\"control\" + 0.021*\"face\" + 0.019*\"destroy\" + 0.018*\"level\"\n",
            "Topic: 9 Word: 0.025*\"opponent\" + 0.022*\"control\" + 0.021*\"'s\" + 0.018*\"atk\" + 0.018*\"graveyard\" + 0.017*\"attack\" + 0.016*\"target\" + 0.016*\"end\" + 0.015*\"face\" + 0.015*\"effect\"\n",
            "Topic: 10 Word: 0.032*\"power\" + 0.025*\"lp\" + 0.022*\"knight\" + 0.021*\"summon\" + 0.021*\"special\" + 0.018*\"dragon\" + 0.017*\"deck\" + 0.017*\"hand\" + 0.017*\"control\" + 0.016*\"graveyard\"\n",
            "Topic: 11 Word: 0.030*\"xyz\" + 0.024*\"level\" + 0.023*\"hand\" + 0.022*\"target\" + 0.022*\"material\" + 0.021*\"graveyard\" + 0.019*\"control\" + 0.018*\"gy\" + 0.018*\"detach\" + 0.018*\"add\"\n",
            "Topic: 12 Word: 0.020*\"tuner\" + 0.017*\"graveyard\" + 0.016*\"fusion\" + 0.016*\"target\" + 0.016*\"normal\" + 0.016*\"hand\" + 0.016*\"summoned\" + 0.016*\"field\" + 0.015*\"trap\" + 0.014*\"spell\"\n",
            "Topic: 13 Word: 0.022*\"battle\" + 0.019*\"counter\" + 0.017*\"atk\" + 0.017*\"effect\" + 0.016*\"phase\" + 0.016*\"opponent\" + 0.015*\"attack\" + 0.015*\"summoned\" + 0.015*\"'s\" + 0.015*\"fusion\"\n",
            "Topic: 14 Word: 0.031*\"hero\" + 0.029*\"zombie\" + 0.024*\"elemental\" + 0.022*\"dragon\" + 0.020*\"summoned\" + 0.020*\"special\" + 0.020*\"sea\" + 0.019*\"hand\" + 0.016*\"summon\" + 0.016*\"type\"\n"
          ]
        }
      ]
    },
    {
      "cell_type": "code",
      "source": [
        "weights = tfidf[bow_corpus[12]]\n",
        "\n",
        "# Get terms from the dictionary and pair with weights\n",
        "\n",
        "weights = [(dictionary[pair[0]], pair[1]) for pair in weights]\n",
        "weights[-35:]"
      ],
      "metadata": {
        "colab": {
          "base_uri": "https://localhost:8080/"
        },
        "id": "_Ff5ZWsvd84w",
        "outputId": "bc463235-caef-4ff6-f5a9-17c30b03d271"
      },
      "execution_count": 43,
      "outputs": [
        {
          "output_type": "execute_result",
          "data": {
            "text/plain": [
              "[('level', 0.14940499168537608),\n",
              " ('opponent', 0.08537816615299872),\n",
              " ('special', 0.10349702055236747),\n",
              " ('summon', 0.11229354971969367),\n",
              " ('atk', 0.1365470061009296),\n",
              " ('def', 0.26171943327007424),\n",
              " ('gy', 0.17054391039978592),\n",
              " ('negate', 0.26606761018289865),\n",
              " ('attack', 0.48852175073713827),\n",
              " ('earth', 0.40753332561599565),\n",
              " ('position', 0.22175145363300816),\n",
              " ('declares', 0.38771680885349846),\n",
              " ('token', 0.39473149602729657)]"
            ]
          },
          "metadata": {},
          "execution_count": 43
        }
      ]
    },
    {
      "cell_type": "code",
      "source": [
        "# !pip install wordcloud\n",
        "from wordcloud import WordCloud\n",
        "\n",
        "# Initialize the word cloud\n",
        "\n",
        "d = {}\n",
        "for a, x in weights:\n",
        "    d[a] = x\n",
        "    \n",
        "wc = WordCloud(\n",
        "    background_color=\"white\",\n",
        "    max_words=2000,\n",
        "    width = 1024,\n",
        "    height = 720,\n",
        "    stopwords=stopwords.words(\"english\")\n",
        ")\n",
        "\n",
        "# Generate the cloud\n",
        "\n",
        "wc.generate_from_frequencies(d)\n",
        "plt.figure(figsize = (12, 8))\n",
        "plt.imshow(wc, interpolation=\"bilinear\")\n",
        "plt.axis(\"off\")\n",
        "plt.show()"
      ],
      "metadata": {
        "colab": {
          "base_uri": "https://localhost:8080/",
          "height": 466
        },
        "id": "t56mB6SZeAB6",
        "outputId": "57e3d6a3-a762-427f-9018-b9d61fd8faf3"
      },
      "execution_count": 44,
      "outputs": [
        {
          "output_type": "display_data",
          "data": {
            "text/plain": [
              "<Figure size 864x576 with 1 Axes>"
            ],
            "image/png": "[encoded data removed]"
          },
          "metadata": {
            "needs_background": "light"
          }
        }
      ]
    },
    {
      "cell_type": "code",
      "source": [
        "d"
      ],
      "metadata": {
        "colab": {
          "base_uri": "https://localhost:8080/"
        },
        "id": "V0sK-AUdeEot",
        "outputId": "f0654ff5-3ad8-43c2-8f71-efa10113ff44"
      },
      "execution_count": 45,
      "outputs": [
        {
          "output_type": "execute_result",
          "data": {
            "text/plain": [
              "{'level': 0.14940499168537608,\n",
              " 'opponent': 0.08537816615299872,\n",
              " 'special': 0.10349702055236747,\n",
              " 'summon': 0.11229354971969367,\n",
              " 'atk': 0.1365470061009296,\n",
              " 'def': 0.26171943327007424,\n",
              " 'gy': 0.17054391039978592,\n",
              " 'negate': 0.26606761018289865,\n",
              " 'attack': 0.48852175073713827,\n",
              " 'earth': 0.40753332561599565,\n",
              " 'position': 0.22175145363300816,\n",
              " 'declares': 0.38771680885349846,\n",
              " 'token': 0.39473149602729657}"
            ]
          },
          "metadata": {},
          "execution_count": 45
        }
      ]
    },
    {
      "cell_type": "code",
      "source": [
        "\n",
        "#https://towardsdatascience.com/music-genre-classification-with-python-c714d032f0d8"
      ],
      "metadata": {
        "id": "HoXNepzweHzf"
      },
      "execution_count": 46,
      "outputs": []
    }
  ]
}