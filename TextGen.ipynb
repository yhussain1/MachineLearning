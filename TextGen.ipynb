{
  "nbformat": 4,
  "nbformat_minor": 0,
  "metadata": {
    "colab": {
      "provenance": [],
      "collapsed_sections": [],
      "authorship_tag": "ABX9TyNfNfBMweqEhU43FbLps4d3",
      "include_colab_link": true
    },
    "kernelspec": {
      "name": "python3",
      "display_name": "Python 3"
    },
    "language_info": {
      "name": "python"
    },
    "accelerator": "GPU",
    "gpuClass": "standard"
  },
  "cells": [
    {
      "cell_type": "markdown",
      "metadata": {
        "id": "view-in-github",
        "colab_type": "text"
      },
      "source": [
        "<a href=\"https://colab.research.google.com/github/yhussain1/MachineLearning/blob/main/TextGen.ipynb\" target=\"_parent\"><img src=\"https://colab.research.google.com/assets/colab-badge.svg\" alt=\"Open In Colab\"/></a>"
      ]
    },
    {
      "cell_type": "code",
      "execution_count": 1,
      "metadata": {
        "id": "_-2JS3sv6YxX"
      },
      "outputs": [],
      "source": [
        "#Library imports\n",
        "import tensorflow as tf\n",
        "import numpy as np\n",
        "import os\n",
        "import time"
      ]
    },
    {
      "cell_type": "code",
      "source": [
        "# download Shakespeare dataset\n",
        "from google.colab import files\n",
        "upload_file = files.upload()\n",
        "!unzip 'hp.zip'"
      ],
      "metadata": {
        "id": "VL6gkLvj6qZv",
        "colab": {
          "base_uri": "https://localhost:8080/",
          "height": 235
        },
        "outputId": "27c7e509-74de-475c-b4c0-116983ab86a7"
      },
      "execution_count": 49,
      "outputs": [
        {
          "output_type": "display_data",
          "data": {
            "text/plain": [
              "<IPython.core.display.HTML object>"
            ],
            "text/html": [
              "\n",
              "     <input type=\"file\" id=\"files-fef4cadb-be9b-4991-a398-98207f1f2ed5\" name=\"files[]\" multiple disabled\n",
              "        style=\"border:none\" />\n",
              "     <output id=\"result-fef4cadb-be9b-4991-a398-98207f1f2ed5\">\n",
              "      Upload widget is only available when the cell has been executed in the\n",
              "      current browser session. Please rerun this cell to enable.\n",
              "      </output>\n",
              "      <script>// Copyright 2017 Google LLC\n",
              "//\n",
              "// Licensed under the Apache License, Version 2.0 (the \"License\");\n",
              "// you may not use this file except in compliance with the License.\n",
              "// You may obtain a copy of the License at\n",
              "//\n",
              "//      http://www.apache.org/licenses/LICENSE-2.0\n",
              "//\n",
              "// Unless required by applicable law or agreed to in writing, software\n",
              "// distributed under the License is distributed on an \"AS IS\" BASIS,\n",
              "// WITHOUT WARRANTIES OR CONDITIONS OF ANY KIND, either express or implied.\n",
              "// See the License for the specific language governing permissions and\n",
              "// limitations under the License.\n",
              "\n",
              "/**\n",
              " * @fileoverview Helpers for google.colab Python module.\n",
              " */\n",
              "(function(scope) {\n",
              "function span(text, styleAttributes = {}) {\n",
              "  const element = document.createElement('span');\n",
              "  element.textContent = text;\n",
              "  for (const key of Object.keys(styleAttributes)) {\n",
              "    element.style[key] = styleAttributes[key];\n",
              "  }\n",
              "  return element;\n",
              "}\n",
              "\n",
              "// Max number of bytes which will be uploaded at a time.\n",
              "const MAX_PAYLOAD_SIZE = 100 * 1024;\n",
              "\n",
              "function _uploadFiles(inputId, outputId) {\n",
              "  const steps = uploadFilesStep(inputId, outputId);\n",
              "  const outputElement = document.getElementById(outputId);\n",
              "  // Cache steps on the outputElement to make it available for the next call\n",
              "  // to uploadFilesContinue from Python.\n",
              "  outputElement.steps = steps;\n",
              "\n",
              "  return _uploadFilesContinue(outputId);\n",
              "}\n",
              "\n",
              "// This is roughly an async generator (not supported in the browser yet),\n",
              "// where there are multiple asynchronous steps and the Python side is going\n",
              "// to poll for completion of each step.\n",
              "// This uses a Promise to block the python side on completion of each step,\n",
              "// then passes the result of the previous step as the input to the next step.\n",
              "function _uploadFilesContinue(outputId) {\n",
              "  const outputElement = document.getElementById(outputId);\n",
              "  const steps = outputElement.steps;\n",
              "\n",
              "  const next = steps.next(outputElement.lastPromiseValue);\n",
              "  return Promise.resolve(next.value.promise).then((value) => {\n",
              "    // Cache the last promise value to make it available to the next\n",
              "    // step of the generator.\n",
              "    outputElement.lastPromiseValue = value;\n",
              "    return next.value.response;\n",
              "  });\n",
              "}\n",
              "\n",
              "/**\n",
              " * Generator function which is called between each async step of the upload\n",
              " * process.\n",
              " * @param {string} inputId Element ID of the input file picker element.\n",
              " * @param {string} outputId Element ID of the output display.\n",
              " * @return {!Iterable<!Object>} Iterable of next steps.\n",
              " */\n",
              "function* uploadFilesStep(inputId, outputId) {\n",
              "  const inputElement = document.getElementById(inputId);\n",
              "  inputElement.disabled = false;\n",
              "\n",
              "  const outputElement = document.getElementById(outputId);\n",
              "  outputElement.innerHTML = '';\n",
              "\n",
              "  const pickedPromise = new Promise((resolve) => {\n",
              "    inputElement.addEventListener('change', (e) => {\n",
              "      resolve(e.target.files);\n",
              "    });\n",
              "  });\n",
              "\n",
              "  const cancel = document.createElement('button');\n",
              "  inputElement.parentElement.appendChild(cancel);\n",
              "  cancel.textContent = 'Cancel upload';\n",
              "  const cancelPromise = new Promise((resolve) => {\n",
              "    cancel.onclick = () => {\n",
              "      resolve(null);\n",
              "    };\n",
              "  });\n",
              "\n",
              "  // Wait for the user to pick the files.\n",
              "  const files = yield {\n",
              "    promise: Promise.race([pickedPromise, cancelPromise]),\n",
              "    response: {\n",
              "      action: 'starting',\n",
              "    }\n",
              "  };\n",
              "\n",
              "  cancel.remove();\n",
              "\n",
              "  // Disable the input element since further picks are not allowed.\n",
              "  inputElement.disabled = true;\n",
              "\n",
              "  if (!files) {\n",
              "    return {\n",
              "      response: {\n",
              "        action: 'complete',\n",
              "      }\n",
              "    };\n",
              "  }\n",
              "\n",
              "  for (const file of files) {\n",
              "    const li = document.createElement('li');\n",
              "    li.append(span(file.name, {fontWeight: 'bold'}));\n",
              "    li.append(span(\n",
              "        `(${file.type || 'n/a'}) - ${file.size} bytes, ` +\n",
              "        `last modified: ${\n",
              "            file.lastModifiedDate ? file.lastModifiedDate.toLocaleDateString() :\n",
              "                                    'n/a'} - `));\n",
              "    const percent = span('0% done');\n",
              "    li.appendChild(percent);\n",
              "\n",
              "    outputElement.appendChild(li);\n",
              "\n",
              "    const fileDataPromise = new Promise((resolve) => {\n",
              "      const reader = new FileReader();\n",
              "      reader.onload = (e) => {\n",
              "        resolve(e.target.result);\n",
              "      };\n",
              "      reader.readAsArrayBuffer(file);\n",
              "    });\n",
              "    // Wait for the data to be ready.\n",
              "    let fileData = yield {\n",
              "      promise: fileDataPromise,\n",
              "      response: {\n",
              "        action: 'continue',\n",
              "      }\n",
              "    };\n",
              "\n",
              "    // Use a chunked sending to avoid message size limits. See b/62115660.\n",
              "    let position = 0;\n",
              "    do {\n",
              "      const length = Math.min(fileData.byteLength - position, MAX_PAYLOAD_SIZE);\n",
              "      const chunk = new Uint8Array(fileData, position, length);\n",
              "      position += length;\n",
              "\n",
              "      const base64 = btoa(String.fromCharCode.apply(null, chunk));\n",
              "      yield {\n",
              "        response: {\n",
              "          action: 'append',\n",
              "          file: file.name,\n",
              "          data: base64,\n",
              "        },\n",
              "      };\n",
              "\n",
              "      let percentDone = fileData.byteLength === 0 ?\n",
              "          100 :\n",
              "          Math.round((position / fileData.byteLength) * 100);\n",
              "      percent.textContent = `${percentDone}% done`;\n",
              "\n",
              "    } while (position < fileData.byteLength);\n",
              "  }\n",
              "\n",
              "  // All done.\n",
              "  yield {\n",
              "    response: {\n",
              "      action: 'complete',\n",
              "    }\n",
              "  };\n",
              "}\n",
              "\n",
              "scope.google = scope.google || {};\n",
              "scope.google.colab = scope.google.colab || {};\n",
              "scope.google.colab._files = {\n",
              "  _uploadFiles,\n",
              "  _uploadFilesContinue,\n",
              "};\n",
              "})(self);\n",
              "</script> "
            ]
          },
          "metadata": {}
        },
        {
          "output_type": "stream",
          "name": "stdout",
          "text": [
            "Saving hp.zip to hp.zip\n",
            "Archive:  hp.zip\n",
            "  inflating: Book1.txt               \n",
            "  inflating: Book2.txt               \n",
            "  inflating: Book3.txt               \n",
            "  inflating: Book4.txt               \n",
            "  inflating: Book5.txt               \n",
            "  inflating: Book6.txt               \n",
            "  inflating: Book7.txt               \n",
            "  inflating: characters_list.csv     \n"
          ]
        }
      ]
    },
    {
      "cell_type": "code",
      "source": [
        "filenames = ['Book1.txt', 'Book2.txt', 'Book3.txt', 'Book4.txt',\n",
        "             'Book5.txt', 'Book6.txt', 'Book7.txt']\n",
        "\n",
        "import shutil\n",
        "\n",
        "with open('file.txt','wb') as wfd:\n",
        "    for f in filenames:\n",
        "        with open(f,'rb') as fd:\n",
        "            shutil.copyfileobj(fd, wfd)"
      ],
      "metadata": {
        "id": "Hece-UPWECw7"
      },
      "execution_count": 63,
      "outputs": []
    },
    {
      "cell_type": "code",
      "source": [
        "path_to_file = 'file.txt'"
      ],
      "metadata": {
        "id": "fY7g5U_tmZo3"
      },
      "execution_count": 64,
      "outputs": []
    },
    {
      "cell_type": "code",
      "source": [
        "#read and decode for python compatibility\n",
        "text = open(path_to_file, 'rb').read().decode(encoding='utf-8')\n",
        "#number of characters in text\n",
        "print(f'Length of text: {len(text)} characters')"
      ],
      "metadata": {
        "colab": {
          "base_uri": "https://localhost:8080/"
        },
        "id": "CYxSr5dD6uIQ",
        "outputId": "aaaab973-66b9-4f8b-a488-502bf0d2a199"
      },
      "execution_count": 65,
      "outputs": [
        {
          "output_type": "stream",
          "name": "stdout",
          "text": [
            "Length of text: 6765174 characters\n"
          ]
        }
      ]
    },
    {
      "cell_type": "code",
      "source": [
        "#1st 250 chars in text\n",
        "print(text[:250])"
      ],
      "metadata": {
        "colab": {
          "base_uri": "https://localhost:8080/"
        },
        "id": "fpFwcdHN-fSf",
        "outputId": "435bcd42-8ba0-44b6-bdab-07afbc8d3082"
      },
      "execution_count": 66,
      "outputs": [
        {
          "output_type": "stream",
          "name": "stdout",
          "text": [
            "/ \n",
            "\n",
            "\n",
            "\n",
            "\n",
            "THE BOY WHO LIVED \n",
            "\n",
            "Mr. and Mrs. Dursley, of number four, Privet Drive, \n",
            "were proud to say that they were perfectly normal, \n",
            "thank you very much. They were the last people you’d \n",
            "expect to be involved in anything strange or \n",
            "mysterious, becaus\n"
          ]
        }
      ]
    },
    {
      "cell_type": "code",
      "source": [
        "#total unique chars in text\n",
        "vocab = sorted(set(text))\n",
        "print(f' {len(vocab)} unique characters')"
      ],
      "metadata": {
        "colab": {
          "base_uri": "https://localhost:8080/"
        },
        "id": "x6f1zJpj-mG7",
        "outputId": "6aab13b4-43eb-47cc-e591-90dc6dbdd7fd"
      },
      "execution_count": 67,
      "outputs": [
        {
          "output_type": "stream",
          "name": "stdout",
          "text": [
            " 92 unique characters\n"
          ]
        }
      ]
    },
    {
      "cell_type": "code",
      "source": [
        "#process text with vectorisation\n",
        "#split text to tokens\n",
        "example_texts = ['abcdefg', 'xyz']\n",
        "\n",
        "chars = tf.strings.unicode_split(example_texts, input_encoding='UTF-8')\n",
        "chars"
      ],
      "metadata": {
        "colab": {
          "base_uri": "https://localhost:8080/"
        },
        "id": "jbEGO9sd-tDB",
        "outputId": "5cc75f5b-a75e-4c01-f5e2-454cc8d8835b"
      },
      "execution_count": 68,
      "outputs": [
        {
          "output_type": "execute_result",
          "data": {
            "text/plain": [
              "<tf.RaggedTensor [[b'a', b'b', b'c', b'd', b'e', b'f', b'g'], [b'x', b'y', b'z']]>"
            ]
          },
          "metadata": {},
          "execution_count": 68
        }
      ]
    },
    {
      "cell_type": "code",
      "source": [
        "#will convert each character to a numeric id\n",
        "ids_from_chars = tf.keras.layers.StringLookup(vocabulary=list(vocab), mask_token=None)"
      ],
      "metadata": {
        "id": "a_wUdpgK_IGL"
      },
      "execution_count": 69,
      "outputs": []
    },
    {
      "cell_type": "code",
      "source": [
        "# example string tokens converted to char ids\n",
        "ids = ids_from_chars(chars)\n",
        "ids"
      ],
      "metadata": {
        "colab": {
          "base_uri": "https://localhost:8080/"
        },
        "id": "KFzXYp2k_bRW",
        "outputId": "aed43439-d91f-4531-990a-6cffd5295f4d"
      },
      "execution_count": 70,
      "outputs": [
        {
          "output_type": "execute_result",
          "data": {
            "text/plain": [
              "<tf.RaggedTensor [[57, 58, 59, 60, 61, 62, 63], [80, 81, 82]]>"
            ]
          },
          "metadata": {},
          "execution_count": 70
        }
      ]
    },
    {
      "cell_type": "code",
      "source": [
        "#will invert the vectors back into readable text\n",
        "chars_from_ids = tf.keras.layers.StringLookup(vocabulary=ids_from_chars.get_vocabulary(),\n",
        "                                              invert=True, mask_token=None)"
      ],
      "metadata": {
        "id": "z8R9mky9_foo"
      },
      "execution_count": 71,
      "outputs": []
    },
    {
      "cell_type": "code",
      "source": [
        "chars = chars_from_ids(ids)\n",
        "chars"
      ],
      "metadata": {
        "colab": {
          "base_uri": "https://localhost:8080/"
        },
        "id": "0087zVDW_03g",
        "outputId": "38cf2851-ea02-4033-a16d-f26488094dcc"
      },
      "execution_count": 72,
      "outputs": [
        {
          "output_type": "execute_result",
          "data": {
            "text/plain": [
              "<tf.RaggedTensor [[b'a', b'b', b'c', b'd', b'e', b'f', b'g'], [b'x', b'y', b'z']]>"
            ]
          },
          "metadata": {},
          "execution_count": 72
        }
      ]
    },
    {
      "cell_type": "code",
      "source": [
        "#join chars back into strings\n",
        "tf.strings.reduce_join(chars, axis=1).numpy()"
      ],
      "metadata": {
        "colab": {
          "base_uri": "https://localhost:8080/"
        },
        "id": "Z9O3LGmE_7JV",
        "outputId": "068f189a-1176-4616-b47a-b94232daa464"
      },
      "execution_count": 73,
      "outputs": [
        {
          "output_type": "execute_result",
          "data": {
            "text/plain": [
              "array([b'abcdefg', b'xyz'], dtype=object)"
            ]
          },
          "metadata": {},
          "execution_count": 73
        }
      ]
    },
    {
      "cell_type": "code",
      "source": [
        "def text_from_ids(ids):\n",
        "  return tf.strings.reduce_join(chars_from_ids(ids), axis=-1)"
      ],
      "metadata": {
        "id": "eOZ9ck7ZAGU4"
      },
      "execution_count": 74,
      "outputs": []
    },
    {
      "cell_type": "code",
      "source": [
        "#tokenize\n",
        "all_ids = ids_from_chars(tf.strings.unicode_split(text, 'UTF-8'))\n",
        "all_ids"
      ],
      "metadata": {
        "colab": {
          "base_uri": "https://localhost:8080/"
        },
        "id": "t5iiZ-fwARWn",
        "outputId": "da20e849-760a-48e9-d2b7-2f3abe10957a"
      },
      "execution_count": 75,
      "outputs": [
        {
          "output_type": "execute_result",
          "data": {
            "text/plain": [
              "<tf.Tensor: shape=(6765174,), dtype=int64, numpy=array([14,  2,  1, ...,  1,  1,  1])>"
            ]
          },
          "metadata": {},
          "execution_count": 75
        }
      ]
    },
    {
      "cell_type": "code",
      "source": [
        "#convert text vectors to char indices\n",
        "ids_dataset = tf.data.Dataset.from_tensor_slices(all_ids)"
      ],
      "metadata": {
        "id": "p5skURRFBLLB"
      },
      "execution_count": 76,
      "outputs": []
    },
    {
      "cell_type": "code",
      "source": [
        "for ids in ids_dataset.take(11):\n",
        "  print(chars_from_ids(ids).numpy().decode('utf-8'))"
      ],
      "metadata": {
        "colab": {
          "base_uri": "https://localhost:8080/"
        },
        "id": "MFPxj-7kBSyj",
        "outputId": "87db649b-3e8a-4b13-fb99-3336293f06d4"
      },
      "execution_count": 77,
      "outputs": [
        {
          "output_type": "stream",
          "name": "stdout",
          "text": [
            "/\n",
            " \n",
            "\n",
            "\n",
            "\n",
            "\n",
            "\n",
            "\n",
            "\n",
            "\n",
            "\n",
            "\n",
            "T\n",
            "H\n",
            "E\n",
            " \n"
          ]
        }
      ]
    },
    {
      "cell_type": "code",
      "source": [
        "seq_length = 100"
      ],
      "metadata": {
        "id": "Nx44toBNBeZR"
      },
      "execution_count": 78,
      "outputs": []
    },
    {
      "cell_type": "code",
      "source": [
        "sequences = ids_dataset.batch(seq_length+1, drop_remainder=True)\n",
        "\n",
        "for seq in sequences.take(1):\n",
        "  print(chars_from_ids(seq))"
      ],
      "metadata": {
        "colab": {
          "base_uri": "https://localhost:8080/"
        },
        "id": "1br3FRPiBo96",
        "outputId": "9c7f26fd-2eb6-4356-9947-c98e07feaa71"
      },
      "execution_count": 79,
      "outputs": [
        {
          "output_type": "stream",
          "name": "stdout",
          "text": [
            "tf.Tensor(\n",
            "[b'/' b' ' b'\\n' b'\\n' b'\\n' b'\\n' b'\\n' b'T' b'H' b'E' b' ' b'B' b'O'\n",
            " b'Y' b' ' b'W' b'H' b'O' b' ' b'L' b'I' b'V' b'E' b'D' b' ' b'\\n' b'\\n'\n",
            " b'M' b'r' b'.' b' ' b'a' b'n' b'd' b' ' b'M' b'r' b's' b'.' b' ' b'D'\n",
            " b'u' b'r' b's' b'l' b'e' b'y' b',' b' ' b'o' b'f' b' ' b'n' b'u' b'm'\n",
            " b'b' b'e' b'r' b' ' b'f' b'o' b'u' b'r' b',' b' ' b'P' b'r' b'i' b'v'\n",
            " b'e' b't' b' ' b'D' b'r' b'i' b'v' b'e' b',' b' ' b'\\n' b'w' b'e' b'r'\n",
            " b'e' b' ' b'p' b'r' b'o' b'u' b'd' b' ' b't' b'o' b' ' b's' b'a' b'y'\n",
            " b' ' b't' b'h' b'a'], shape=(101,), dtype=string)\n"
          ]
        }
      ]
    },
    {
      "cell_type": "code",
      "source": [
        "#convert to human readable sentence\n",
        "for seq in sequences.take(5):\n",
        "  print(text_from_ids(seq).numpy())"
      ],
      "metadata": {
        "colab": {
          "base_uri": "https://localhost:8080/"
        },
        "id": "ssBPMTC6B1B_",
        "outputId": "5fc1d022-ed1d-4050-9b8f-684630e623d8"
      },
      "execution_count": 80,
      "outputs": [
        {
          "output_type": "stream",
          "name": "stdout",
          "text": [
            "b'/ \\n\\n\\n\\n\\nTHE BOY WHO LIVED \\n\\nMr. and Mrs. Dursley, of number four, Privet Drive, \\nwere proud to say tha'\n",
            "b't they were perfectly normal, \\nthank you very much. They were the last people you\\xe2\\x80\\x99d \\nexpect to be inv'\n",
            "b'olved in anything strange or \\nmysterious, because they just didn\\xe2\\x80\\x99t hold with such \\nnonsense. \\n\\nMr. Du'\n",
            "b'rsley was the director of a firm called \\nGrunnings, which made drills. He was a big, beefy \\nman with '\n",
            "b'hardly any neck, although he did have a \\nvery large mustache. Mrs. Dursley was thin and \\nblonde and h'\n"
          ]
        }
      ]
    },
    {
      "cell_type": "code",
      "source": [
        "def split_input_target(sequence):\n",
        "  input_text = sequence[:-1]\n",
        "  target_text = sequence[1:]\n",
        "  return input_text, target_text"
      ],
      "metadata": {
        "id": "cEWeQ67SCIk8"
      },
      "execution_count": 81,
      "outputs": []
    },
    {
      "cell_type": "code",
      "source": [
        "split_input_target(list('Tensorflow'))"
      ],
      "metadata": {
        "colab": {
          "base_uri": "https://localhost:8080/"
        },
        "id": "1qm4yuk0FKDZ",
        "outputId": "0502288e-cd78-4739-85eb-291467d8703f"
      },
      "execution_count": 82,
      "outputs": [
        {
          "output_type": "execute_result",
          "data": {
            "text/plain": [
              "(['T', 'e', 'n', 's', 'o', 'r', 'f', 'l', 'o'],\n",
              " ['e', 'n', 's', 'o', 'r', 'f', 'l', 'o', 'w'])"
            ]
          },
          "metadata": {},
          "execution_count": 82
        }
      ]
    },
    {
      "cell_type": "code",
      "source": [
        "dataset = sequences.map(split_input_target)"
      ],
      "metadata": {
        "id": "m6j70fGhFPPN"
      },
      "execution_count": 83,
      "outputs": []
    },
    {
      "cell_type": "code",
      "source": [
        "for input_example, target_example in dataset.take(1):\n",
        "  print('Input :', text_from_ids(input_example).numpy())\n",
        "  print('Target :', text_from_ids(target_example).numpy())"
      ],
      "metadata": {
        "colab": {
          "base_uri": "https://localhost:8080/"
        },
        "id": "7PJVWzi6FXbz",
        "outputId": "8177d1d6-0140-46f9-eed6-891dd5de330d"
      },
      "execution_count": 84,
      "outputs": [
        {
          "output_type": "stream",
          "name": "stdout",
          "text": [
            "Input : b'/ \\n\\n\\n\\n\\nTHE BOY WHO LIVED \\n\\nMr. and Mrs. Dursley, of number four, Privet Drive, \\nwere proud to say th'\n",
            "Target : b' \\n\\n\\n\\n\\nTHE BOY WHO LIVED \\n\\nMr. and Mrs. Dursley, of number four, Privet Drive, \\nwere proud to say tha'\n"
          ]
        }
      ]
    },
    {
      "cell_type": "code",
      "source": [
        "#shuffle and pack data into batches\n",
        "batch = 64\n",
        "buffer = 10000\n",
        "\n",
        "dataset = (\n",
        "    dataset.shuffle(buffer).batch(batch, drop_remainder=True).prefetch(tf.data.experimental.AUTOTUNE)\n",
        ")\n",
        "\n",
        "dataset"
      ],
      "metadata": {
        "colab": {
          "base_uri": "https://localhost:8080/"
        },
        "id": "DtSd5-upFrjX",
        "outputId": "e1a7219d-5bc7-42b5-8dfd-daf86dea4f36"
      },
      "execution_count": 85,
      "outputs": [
        {
          "output_type": "execute_result",
          "data": {
            "text/plain": [
              "<PrefetchDataset element_spec=(TensorSpec(shape=(64, 100), dtype=tf.int64, name=None), TensorSpec(shape=(64, 100), dtype=tf.int64, name=None))>"
            ]
          },
          "metadata": {},
          "execution_count": 85
        }
      ]
    },
    {
      "cell_type": "markdown",
      "source": [
        "Building the Model"
      ],
      "metadata": {
        "id": "cwdtV9YcGKdt"
      }
    },
    {
      "cell_type": "code",
      "source": [
        "vocab_size = len(ids_from_chars.get_vocabulary())\n",
        "embedding_dim = 356\n",
        "rnn_units = 1024"
      ],
      "metadata": {
        "id": "__PjP5zdGHEi"
      },
      "execution_count": 86,
      "outputs": []
    },
    {
      "cell_type": "code",
      "source": [
        "class MyModel(tf.keras.Model):\n",
        "  def __init__(self, vocab_size, embedding_dim, rnn_units):\n",
        "    super().__init__(self)\n",
        "    self.embedding = tf.keras.layers.Embedding(vocab_size, embedding_dim)\n",
        "    self.gru = tf.keras.layers.GRU(rnn_units,\n",
        "                                   return_sequences=True,\n",
        "                                   return_state=True)\n",
        "    self.dense = tf.keras.layers.Dense(vocab_size)\n",
        "\n",
        "  def call(self, inputs, states=None, return_state=False, training=False):\n",
        "    x = inputs\n",
        "    x = self.embedding(x, training=training)\n",
        "    if states is None:\n",
        "      states = self.gru.get_initial_state(x)\n",
        "    x, states = self.gru(x, initial_state=states, training=training)\n",
        "    x = self.dense(x, training=training)\n",
        "\n",
        "    if return_state:\n",
        "      return x, states\n",
        "    else:\n",
        "      return x\n"
      ],
      "metadata": {
        "id": "7XTKDakxGfhN"
      },
      "execution_count": 87,
      "outputs": []
    },
    {
      "cell_type": "code",
      "source": [
        "model = MyModel(\n",
        "    vocab_size=vocab_size,\n",
        "    embedding_dim=embedding_dim,\n",
        "    rnn_units=rnn_units)"
      ],
      "metadata": {
        "id": "YhBCXwp8G9V-"
      },
      "execution_count": 88,
      "outputs": []
    },
    {
      "cell_type": "markdown",
      "source": [
        "![image.png](data:image/png;base64,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)"
      ],
      "metadata": {
        "id": "aOSO6SUIHHwh"
      }
    },
    {
      "cell_type": "code",
      "source": [
        "for input_example_batch, target_example_batch in dataset.take(1): # shape output\n",
        "    example_batch_predictions = model(input_example_batch)\n",
        "    print(example_batch_predictions.shape, \"# (batch_size, sequence_length, vocab_size)\")"
      ],
      "metadata": {
        "colab": {
          "base_uri": "https://localhost:8080/"
        },
        "id": "oC-u58GQG-ug",
        "outputId": "1b85761c-e699-4356-b50b-a22376633b45"
      },
      "execution_count": 89,
      "outputs": [
        {
          "output_type": "stream",
          "name": "stdout",
          "text": [
            "(64, 100, 93) # (batch_size, sequence_length, vocab_size)\n"
          ]
        }
      ]
    },
    {
      "cell_type": "code",
      "source": [
        "model.summary()"
      ],
      "metadata": {
        "colab": {
          "base_uri": "https://localhost:8080/"
        },
        "id": "GFGI-2WCHoB_",
        "outputId": "830a6efc-ae7f-4aea-ebc5-9b585bff5e9b"
      },
      "execution_count": 90,
      "outputs": [
        {
          "output_type": "stream",
          "name": "stdout",
          "text": [
            "Model: \"my_model_1\"\n",
            "_________________________________________________________________\n",
            " Layer (type)                Output Shape              Param #   \n",
            "=================================================================\n",
            " embedding_1 (Embedding)     multiple                  33108     \n",
            "                                                                 \n",
            " gru_1 (GRU)                 multiple                  4245504   \n",
            "                                                                 \n",
            " dense_1 (Dense)             multiple                  95325     \n",
            "                                                                 \n",
            "=================================================================\n",
            "Total params: 4,373,937\n",
            "Trainable params: 4,373,937\n",
            "Non-trainable params: 0\n",
            "_________________________________________________________________\n"
          ]
        }
      ]
    },
    {
      "cell_type": "code",
      "source": [
        "sampled_indices = tf.random.categorical(example_batch_predictions[0], num_samples=1)\n",
        "sampled_indices = tf.squeeze(sampled_indices, axis=-1).numpy()\n"
      ],
      "metadata": {
        "id": "v8hng8mpHuaz"
      },
      "execution_count": 91,
      "outputs": []
    },
    {
      "cell_type": "code",
      "source": [
        "sampled_indices"
      ],
      "metadata": {
        "colab": {
          "base_uri": "https://localhost:8080/"
        },
        "id": "w5csBP7cH5Gn",
        "outputId": "cfb8a462-ba39-4ade-b4c3-dd7a55b18802"
      },
      "execution_count": 92,
      "outputs": [
        {
          "output_type": "execute_result",
          "data": {
            "text/plain": [
              "array([ 3, 89, 85, 89, 53, 34, 21, 87, 86, 86, 50,  4, 30, 40, 33, 33, 53,\n",
              "       92, 62, 13, 25,  1, 53, 19, 33, 32, 30, 52, 71, 43, 75,  2, 69, 34,\n",
              "       83, 79,  9, 57, 78, 70, 82, 64, 63, 92,  5, 44, 31, 46,  4, 59, 90,\n",
              "       20, 45, 60,  5, 76, 55, 82, 74, 27, 87,  2, 14, 19, 26, 92,  5, 52,\n",
              "       23, 15, 19, 71, 86,  9, 37, 30,  9,  9,  7, 72,  3, 25, 53, 68,  4,\n",
              "       91, 83, 58, 17, 26, 47, 30,  8, 55, 65, 49, 60, 55, 16, 67])"
            ]
          },
          "metadata": {},
          "execution_count": 92
        }
      ]
    },
    {
      "cell_type": "code",
      "source": [
        "print(\"Input:\\n\", text_from_ids(input_example_batch[0]).numpy())\n",
        "print()\n",
        "print(\"Next Char Predictions:\\n\", text_from_ids(sampled_indices).numpy())"
      ],
      "metadata": {
        "colab": {
          "base_uri": "https://localhost:8080/"
        },
        "id": "2vmctlznH6_z",
        "outputId": "8c41e337-bffe-4d55-9715-b75ac7a5f051"
      },
      "execution_count": 93,
      "outputs": [
        {
          "output_type": "stream",
          "name": "stdout",
          "text": [
            "Input:\n",
            " b'ou?\\xe2\\x80\\x9d \\n\\nAs he had expected, Mrs. Dursley looked shocked and \\nangry. After all, they normally pretende'\n",
            "\n",
            "Next Char Predictions:\n",
            " b'!\\xe2\\x80\\x9d\\xe2\\x80\\x94\\xe2\\x80\\x9dYF6\\xe2\\x80\\x99\\xe2\\x80\\x98\\xe2\\x80\\x98V\"BLEEY\\xe2\\x96\\xa1f.:\\nY4EDBXoOs mF|w)avnzhg\\xe2\\x96\\xa1%PCR\"c\\xe2\\x80\\xa25Qd%t\\\\zr>\\xe2\\x80\\x99 /4;\\xe2\\x96\\xa1%X804o\\xe2\\x80\\x98)IB))\\'p!:Yl\"\\xe2\\x96\\xa0|b2;SB(\\\\iUd\\\\1k'\n"
          ]
        }
      ]
    },
    {
      "cell_type": "code",
      "source": [
        "loss = tf.losses.SparseCategoricalCrossentropy(from_logits=True)"
      ],
      "metadata": {
        "id": "2nDYAdo1H-Su"
      },
      "execution_count": 94,
      "outputs": []
    },
    {
      "cell_type": "code",
      "source": [
        "example_batch_mean_loss = loss(target_example_batch, example_batch_predictions)\n",
        "print(\"Prediction shape: \", example_batch_predictions.shape, \" # (batch_size, sequence_length, vocab_size)\")\n",
        "print(\"Mean loss:        \", example_batch_mean_loss)"
      ],
      "metadata": {
        "colab": {
          "base_uri": "https://localhost:8080/"
        },
        "id": "D-F9NF2lIMEa",
        "outputId": "7464caec-0338-4e10-fc16-f4265411e154"
      },
      "execution_count": 95,
      "outputs": [
        {
          "output_type": "stream",
          "name": "stdout",
          "text": [
            "Prediction shape:  (64, 100, 93)  # (batch_size, sequence_length, vocab_size)\n",
            "Mean loss:         tf.Tensor(4.534108, shape=(), dtype=float32)\n"
          ]
        }
      ]
    },
    {
      "cell_type": "code",
      "source": [
        "tf.exp(example_batch_mean_loss).numpy()"
      ],
      "metadata": {
        "colab": {
          "base_uri": "https://localhost:8080/"
        },
        "id": "-W9MD2rvIXZ0",
        "outputId": "bb38ec88-ddf0-4805-a497-892ced79a66d"
      },
      "execution_count": 96,
      "outputs": [
        {
          "output_type": "execute_result",
          "data": {
            "text/plain": [
              "93.14041"
            ]
          },
          "metadata": {},
          "execution_count": 96
        }
      ]
    },
    {
      "cell_type": "code",
      "source": [
        "model.compile(optimizer='adam', loss=loss)\n"
      ],
      "metadata": {
        "id": "oAu7H4zdIgRX"
      },
      "execution_count": 97,
      "outputs": []
    },
    {
      "cell_type": "code",
      "source": [
        "checkpoint_dir = './training_checkpoints'\n",
        "checkpoint_prefix = os.path.join(checkpoint_dir, 'ckpt_{epoch}')\n",
        "\n",
        "checkpoint_callback = tf.keras.callbacks.ModelCheckpoint(\n",
        "    filepath=checkpoint_prefix,\n",
        "    save_weights_only=True\n",
        ")"
      ],
      "metadata": {
        "id": "PXmFFpydIoy6"
      },
      "execution_count": 98,
      "outputs": []
    },
    {
      "cell_type": "code",
      "source": [
        "epochs = 30"
      ],
      "metadata": {
        "id": "sY0MHUkmJHPx"
      },
      "execution_count": 99,
      "outputs": []
    },
    {
      "cell_type": "code",
      "source": [
        "history = model.fit(dataset, epochs=epochs, callbacks=[checkpoint_callback])"
      ],
      "metadata": {
        "colab": {
          "base_uri": "https://localhost:8080/"
        },
        "id": "T7ZcfxHcJKec",
        "outputId": "ed118ec7-3a32-4427-a44d-c5ed07062e58"
      },
      "execution_count": 100,
      "outputs": [
        {
          "output_type": "stream",
          "name": "stdout",
          "text": [
            "Epoch 1/30\n",
            "1046/1046 [==============================] - 67s 62ms/step - loss: 1.6664\n",
            "Epoch 2/30\n",
            "1046/1046 [==============================] - 67s 63ms/step - loss: 1.1619\n",
            "Epoch 3/30\n",
            "1046/1046 [==============================] - 65s 61ms/step - loss: 1.0824\n",
            "Epoch 4/30\n",
            "1046/1046 [==============================] - 65s 61ms/step - loss: 1.0408\n",
            "Epoch 5/30\n",
            "1046/1046 [==============================] - 67s 63ms/step - loss: 1.0114\n",
            "Epoch 6/30\n",
            "1046/1046 [==============================] - 66s 62ms/step - loss: 0.9892\n",
            "Epoch 7/30\n",
            "1046/1046 [==============================] - 65s 61ms/step - loss: 0.9710\n",
            "Epoch 8/30\n",
            "1046/1046 [==============================] - 66s 62ms/step - loss: 0.9559\n",
            "Epoch 9/30\n",
            "1046/1046 [==============================] - 65s 61ms/step - loss: 0.9441\n",
            "Epoch 10/30\n",
            "1046/1046 [==============================] - 65s 61ms/step - loss: 0.9350\n",
            "Epoch 11/30\n",
            "1046/1046 [==============================] - 66s 62ms/step - loss: 0.9278\n",
            "Epoch 12/30\n",
            "1046/1046 [==============================] - 67s 63ms/step - loss: 0.9228\n",
            "Epoch 13/30\n",
            "1046/1046 [==============================] - 66s 62ms/step - loss: 0.9201\n",
            "Epoch 14/30\n",
            "1046/1046 [==============================] - 66s 62ms/step - loss: 0.9184\n",
            "Epoch 15/30\n",
            "1046/1046 [==============================] - 65s 61ms/step - loss: 0.9184\n",
            "Epoch 16/30\n",
            "1046/1046 [==============================] - 67s 63ms/step - loss: 0.9193\n",
            "Epoch 17/30\n",
            "1046/1046 [==============================] - 66s 62ms/step - loss: 0.9221\n",
            "Epoch 18/30\n",
            "1046/1046 [==============================] - 65s 61ms/step - loss: 0.9245\n",
            "Epoch 19/30\n",
            "1046/1046 [==============================] - 67s 63ms/step - loss: 0.9293\n",
            "Epoch 20/30\n",
            "1046/1046 [==============================] - 65s 61ms/step - loss: 0.9360\n",
            "Epoch 21/30\n",
            "1046/1046 [==============================] - 65s 61ms/step - loss: 0.9415\n",
            "Epoch 22/30\n",
            "1046/1046 [==============================] - 66s 62ms/step - loss: 0.9544\n",
            "Epoch 23/30\n",
            "1046/1046 [==============================] - 66s 62ms/step - loss: 0.9627\n",
            "Epoch 24/30\n",
            "1046/1046 [==============================] - 65s 61ms/step - loss: 0.9786\n",
            "Epoch 25/30\n",
            "1046/1046 [==============================] - 65s 61ms/step - loss: 0.9984\n",
            "Epoch 26/30\n",
            "1046/1046 [==============================] - 67s 63ms/step - loss: 1.0594\n",
            "Epoch 27/30\n",
            "1046/1046 [==============================] - 65s 61ms/step - loss: 1.0704\n",
            "Epoch 28/30\n",
            "1046/1046 [==============================] - 65s 61ms/step - loss: 1.1460\n",
            "Epoch 29/30\n",
            "1046/1046 [==============================] - 65s 61ms/step - loss: 1.1239\n",
            "Epoch 30/30\n",
            "1046/1046 [==============================] - 67s 63ms/step - loss: 1.5097\n"
          ]
        }
      ]
    },
    {
      "cell_type": "code",
      "source": [
        "class OneStep(tf.keras.Model):\n",
        "  def __init__(self, model, chars_from_ids, ids_from_chars, temperature=1.0):\n",
        "    super().__init__()\n",
        "    self.temperature = temperature\n",
        "    self.model = model\n",
        "    self.chars_from_ids = chars_from_ids\n",
        "    self.ids_from_chars = ids_from_chars\n",
        "\n",
        "    # Create a mask to prevent \"[UNK]\" from being generated.\n",
        "    skip_ids = self.ids_from_chars(['[UNK]'])[:, None]\n",
        "    sparse_mask = tf.SparseTensor(\n",
        "        # Put a -inf at each bad index.\n",
        "        values=[-float('inf')]*len(skip_ids),\n",
        "        indices=skip_ids,\n",
        "        # Match the shape to the vocabulary\n",
        "        dense_shape=[len(ids_from_chars.get_vocabulary())])\n",
        "    self.prediction_mask = tf.sparse.to_dense(sparse_mask)\n",
        "\n",
        "  @tf.function\n",
        "  def generate_one_step(self, inputs, states=None):\n",
        "    # Convert strings to token IDs.\n",
        "    input_chars = tf.strings.unicode_split(inputs, 'UTF-8')\n",
        "    input_ids = self.ids_from_chars(input_chars).to_tensor()\n",
        "\n",
        "    # Run the model.\n",
        "    # predicted_logits.shape is [batch, char, next_char_logits]\n",
        "    predicted_logits, states = self.model(inputs=input_ids, states=states,\n",
        "                                          return_state=True)\n",
        "    # Only use the last prediction.\n",
        "    predicted_logits = predicted_logits[:, -1, :]\n",
        "    predicted_logits = predicted_logits/self.temperature\n",
        "    # Apply the prediction mask: prevent \"[UNK]\" from being generated.\n",
        "    predicted_logits = predicted_logits + self.prediction_mask\n",
        "\n",
        "    # Sample the output logits to generate token IDs.\n",
        "    predicted_ids = tf.random.categorical(predicted_logits, num_samples=1)\n",
        "    predicted_ids = tf.squeeze(predicted_ids, axis=-1)\n",
        "\n",
        "    # Convert from token ids to characters\n",
        "    predicted_chars = self.chars_from_ids(predicted_ids)\n",
        "\n",
        "    # Return the characters and model state.\n",
        "    return predicted_chars, states"
      ],
      "metadata": {
        "id": "_p8hqsJhJODu"
      },
      "execution_count": 101,
      "outputs": []
    },
    {
      "cell_type": "code",
      "source": [
        "one_step_model = OneStep(model, chars_from_ids, ids_from_chars, temperature=0.6)"
      ],
      "metadata": {
        "id": "z6gLdFELnEDQ"
      },
      "execution_count": 107,
      "outputs": []
    },
    {
      "cell_type": "code",
      "source": [
        "start = time.time()\n",
        "states = None\n",
        "next_char = tf.constant(['Harry:'])\n",
        "result = [next_char]\n",
        "\n",
        "for n in range(1000):\n",
        "  next_char, states = one_step_model.generate_one_step(next_char, states=states)\n",
        "  result.append(next_char)\n",
        "\n",
        "result = tf.strings.join(result)\n",
        "end = time.time()\n",
        "print(result[0].numpy().decode('utf-8'), '\\n\\n' + '_'*80)\n",
        "print('\\nRun time:', end - start)"
      ],
      "metadata": {
        "colab": {
          "base_uri": "https://localhost:8080/"
        },
        "id": "GAzPkmYcnGTa",
        "outputId": "bed07eb3-f209-4867-dd0b-68c945db0521"
      },
      "execution_count": 108,
      "outputs": [
        {
          "output_type": "stream",
          "name": "stdout",
          "text": [
            "Harry: \n",
            "\n",
            "\n",
            "\n",
            "\n",
            "Page | 299 Harry Pot the \n",
            "and \n",
            "they were cally and her wand word unnot \n",
            "whit had the coulder the more k was cloolled drean \n",
            "\n",
            "thight the clowr and the \n",
            "clows appered?” \n",
            "\n",
            "\n",
            "“A hall was sured him on other tim. They could over he with that he was suight for in day and \n",
            "wholed and that he where’s was drick \n",
            "\n",
            "“Huck it whem — ” said Hermione in. \n",
            "\n",
            "“Mold Harry how whed of the Porewing to had \n",
            "they doore surey looking the stanked in of the flacest of \n",
            "\n",
            "They what his \n",
            "\n",
            "Harry. \n",
            "\n",
            "“I say and the Deathly Harry for on the was what wisher looked saw, \n",
            "\n",
            "Harry to the be \n",
            "hadeas that he what had to whe the chan his blooke the was me,” said Ron’ soure that the mat intille youran’ whicher his as \n",
            "and a \n",
            "\n",
            "“Prof he saw \n",
            "the selt don’t \n",
            "and dreak of the \n",
            "on whathurl. Herm me could you backed whor a down \n",
            "Paget| 43 \n",
            "\n",
            "“The mad the was meally of the done the Hadled to her \n",
            "\n",
            "\n",
            "Page | 397 Harry Potter and the Dareffry at of the cont had bellowe see light with the was was beed \n",
            "out ifrecting thee wothit, reashe \n",
            "\n",
            "________________________________________________________________________________\n",
            "\n",
            "Run time: 3.395639419555664\n"
          ]
        }
      ]
    },
    {
      "cell_type": "code",
      "source": [
        "start = time.time()\n",
        "states = None\n",
        "next_char = tf.constant(['Harry:',  'Harry:', 'Harry:', 'Harry:', 'Harry:'])\n",
        "result = [next_char]\n",
        "\n",
        "for n in range(1000):\n",
        "  next_char, states = one_step_model.generate_one_step(next_char, states=states)\n",
        "  result.append(next_char)\n",
        "\n",
        "result = tf.strings.join(result)\n",
        "end = time.time()\n",
        "print(result, '\\n\\n' + '_'*80)\n",
        "print('\\nRun time:', end - start)"
      ],
      "metadata": {
        "colab": {
          "base_uri": "https://localhost:8080/"
        },
        "id": "3MAsdIrTnKsk",
        "outputId": "c2e1061f-27c1-45f4-aba5-55128f21dc5f"
      },
      "execution_count": 109,
      "outputs": [
        {
          "output_type": "stream",
          "name": "stdout",
          "text": [
            "tf.Tensor(\n",
            "[b'Harry: \\n\\n\\n\\n\\n\\n\\n\\n\\nPage | 46 and the Deathly Hallows - J.K. Rowling \\n\\n\\n\\n\\n\\n\\xe2\\x80\\x9cThe\\xe2\\x80\\x99r was he was \\n\\n\\xe2\\x80\\x9cWhink a campere the re melles, and frammingersso bled ove him. \\n\\n\\xe2\\x80\\x9cWhand been a le we cudden think on the searne that the \\nthat they not, and they wat everying the \\ndore and the Dering AmTor of the mare \\nthe selt the frombechingo \\nreake hud the mepor them with trachet did ints and look dince booke \\nhin \\nthe dea had not the wowly the could more \\nout it a mored \\n\\n\\xe2\\x80\\x9cWhat\\xe2\\x80\\x99s \\nhe dow \\nbut soulled he stim; \\nMassly \\xe2\\x80\\x99s got with stand. \\n\\n\\xe2\\x80\\x9cAry I\\xe2\\x80\\x99ven to knows fee so \\nshink thear any the \\nseatly were in the see the we was cere f were thing the be could \\nbroiwor dow, and \\nGoom her him sect come book \\nand Merowe the Selew \\nwas bute cantille a to finger, he was whough the be wand said \\nHarry was \\nstiff at perse of \\nand her what of the Miging \\n\\n\\xe2\\x80\\x9cYoure, could have \\nsaid grace, bed us the \\nManyly to \\nmust hevered \\nundown the pandone. \\n\\n\\xe2\\x80\\x9cTho the allly otered \\nit was a terning \\n\\n\\n\\n\\xe2\\x80\\x9cYou rubbly; and Hermion some, and diever \\n'\n",
            " b'Harry: \\n\\nI had the \\nlooked \\nare for her he was \\nsid out at start the could \\nthe parathe to his freally, and \\nweartly.\\xe2\\x80\\x9d \\n\\nThe was wrach look and over \\nhad the wor before a from selowed and \\n\\n\\xe2\\x80\\x9cLongous arm you the med arm of a sting in the forgot,\\xe2\\x80\\x9d said Hermione beding the looked \\nalooder sure raiged houral saint \\nhis frimemeraly work this wery doen \\nthe \\nmeothing to shappentled dead aroull K. ... \\n\\n\\xe2\\x80\\x9cI the rep, \\n\\nPage | 311or Harry and the Dumbled by or as hertlly. \\n\\n\\xe2\\x80\\x9cAs hims of Hermined the red sairing romer and could the in that said Harry staked his faint a pis coulder the Deathe \\nwas dide. \\n\\n\\xe2\\x80\\x9cThey was when had beent \\nin the she down heard side \\nshe drich \\nof he save the \\nrecoomione he\\xe2\\x80\\x99s leus, it was he could tre alled the \\nat it was \\n\\n\\n\\nEnt ever ast \\n\\nIn the congor Marry and the Dark Snape he was \\nsight and the Flarred \\nGoomething whister \\nlight and \\nMage, and ho was him \\nbelfore\\xe2\\x80\\x99s a bracke \\nbet the backed him said liffee backed out Voldemort or maright, and shell hand \\nlightle of what him '\n",
            " b'Harry: \\n\\n\\n\\n\\n\\n\\n\\n\\n\\nPage | 49 Harry Potter and the Dury and the was he the suld \\npureling seald he sown the can allus \\nthe collowardy bethe kn with that hempeed to here \\nhad would and in that \\nHermione of the herew himpeat a clooked his \\n\\nyout boter \\nshe was stri\\xe2\\x80\\x99s dowing and \\nLowared, and the \\n\\nPolitter offrectly. \\xe2\\x80\\x9cAll to celath the seme \\n\\nat \\nHermione a crouck ored to for a \\non the straight he looked up to his wander was \\ncould at the and a she callum with and the \\nprever \\nthere word Voldemand \\n\\n\\nHermione whichas they \\nthe coold mpulled the \\nwould had beht \\ndore the tousest No did that to \\nclooked a vound a \\nSnape Snappent the wone was spad the the same tat he same and \\nwith siated \\nthe \\nprootlith \\nhadind tree beformy beath \\nhand the able the done and to hill \\nwould where be ored him Harry Potter all ... Hall had be they bell turning to the led arous fire us me,\\xe2\\x80\\x9d said Harry would bentaned \\nit a \\nto his on with the self undent. \\n\\n\\xe2\\x80\\x9cAn herre nother scear. \\n\\n\\xe2\\x80\\x9cI did where hime backed to ke was the'\n",
            " b'Harry: \\n\\n\\nOt as the conder frainget, and Harry cellifire the down \\n\\n\\xe2\\x80\\x9cI the \\nwas and here \\n\\nwand the coull to sake the sored \\nher cans flant, the creamsely of \\nHermione in with and \\n\\n\\xe2\\x80\\x9cAnd to Harry.\\xe2\\x80\\x9d \\n\\n\\xe2\\x80\\x9cYou\\xe2\\x80\\x99l said looked his the same, all \\n\\n\\xe2\\x80\\x9cLut dears contten in the be appears. There was sking \\ndere where\\xe2\\x80\\x99s veentinged into the ent of Death Eater as hade \\nbe inted him he sturnd the had undor head \\nHarry his he down and the be and the \\nthe was wand sled \\nwhath he hally and \\nhis got upon the \\nsaid the Harry was le comace whore the entried. \\n\\n\\xe2\\x80\\x9cA doing with Malfthat \\nHarry could the \\nnot the for the sere clame was \\xe2\\x80\\x94 and the yould have \\nsame around the at he was \\nhave foes he did \\nthe sed she pather, what \\n\\nHarry \\n\\nPage | 84 Hear see was he wanded \\nthe spight dound the \\nnot a from the gon \\nthe doat \\nthey complack what\\xe2\\x80\\x99s Mugh- maken \\nfacred of over agbe for \\nget and shere \\ndows spelider \\xe2\\x80\\x94 \\xe2\\x80\\x9d \\n\\n\\xe2\\x80\\x9cChan ffort rist whork his, \\n\\n\\xe2\\x80\\x9cI do why sout of their looked come his the had sever it was ound a \\n\\nPage | 75'\n",
            " b'Harry: \\n\\n\\n\\n\\n\\nPey ies looked an \\nwhyave to \\npasting said Lupin and Ron, when he was \\nany of the his vighthers of the gind. \\n\\n\\xe2\\x80\\x9cWe\\xe2\\x80\\x99d Dumblide, \\nthe conixid arm of his stood a remordered the counder \\nher wand word haven in over he down \\nbeentry dow bethe le whists the \\nthe sed to stally \\nthe was whow \\xe2\\x80\\x94 \\xe2\\x80\\x9d \\n\\n\\xe2\\x80\\x9cIt was nomething and the Deally Hally was \\nsaid the sand the be \\nwas and him \\ndestort trecored groly \\nsaid Manist ... \\n\\n\\xe2\\x80\\x9cI was wrickling and down the \\ndarked. \\n\\n\\n\\nPlace they would before a whor him \\nmore think were are sulury, \\n\\n\\xe2\\x80\\x9cYell, I was the cat lack ever to upacking with the cont he was \\nreally of at hat he was \\nhe was soment in it was and lef gut and the consaide themed our \\nsturned from them in that \\n\\nPrince - J.K. Rowling \\n\\n\\n\\n\\n\\n\\n\\n\\xe2\\x80\\x9cLookeed, ounders him who he was said now or and reen thing liat the \\n\\nHarry grot \\npracher cone, wher hered now with thought toomort that reving on her and sly and Harry, Rons and \\nthe cordrerwas should your at and herew rach what he was \\n\\n\\nPereware the bred '], shape=(5,), dtype=string) \n",
            "\n",
            "________________________________________________________________________________\n",
            "\n",
            "Run time: 3.2397871017456055\n"
          ]
        }
      ]
    },
    {
      "cell_type": "code",
      "source": [
        "tf.saved_model.save(one_step_model, 'one_step')\n",
        "one_step_reloaded = tf.saved_model.load('one_step')"
      ],
      "metadata": {
        "colab": {
          "base_uri": "https://localhost:8080/"
        },
        "id": "OyAar5S4nNCx",
        "outputId": "f4d91a81-81c3-409f-c215-b0ed1b8c01a0"
      },
      "execution_count": 110,
      "outputs": [
        {
          "output_type": "stream",
          "name": "stderr",
          "text": [
            "WARNING:tensorflow:Skipping full serialization of Keras layer <__main__.OneStep object at 0x7f845aeec890>, because it is not built.\n",
            "WARNING:absl:Found untraced functions such as gru_cell_1_layer_call_fn, gru_cell_1_layer_call_and_return_conditional_losses while saving (showing 2 of 2). These functions will not be directly callable after loading.\n"
          ]
        }
      ]
    },
    {
      "cell_type": "code",
      "source": [
        "states = None\n",
        "next_char = tf.constant(['Harry:'])\n",
        "result = [next_char]\n",
        "\n",
        "for n in range(500):\n",
        "  next_char, states = one_step_reloaded.generate_one_step(next_char, states=states)\n",
        "  result.append(next_char)\n",
        "\n",
        "print(tf.strings.join(result)[0].numpy().decode(\"utf-8\"))"
      ],
      "metadata": {
        "colab": {
          "base_uri": "https://localhost:8080/"
        },
        "id": "JAIDzxvmn7PO",
        "outputId": "1144cea2-c678-49a0-81f8-d0926b13657c"
      },
      "execution_count": 111,
      "outputs": [
        {
          "output_type": "stream",
          "name": "stdout",
          "text": [
            "Harry: \n",
            "\n",
            "\n",
            "\n",
            "\n",
            "\n",
            "Ho were wat did Harry. “What \n",
            "yound the pesped better not dispold \n",
            "Mast and Snerive of the ere backed and the \n",
            "looked the tor \n",
            "\n",
            "\n",
            "Prienester and the Dad Deathly Hallows - J.K. Rowling \n",
            "\n",
            "“I cold did \n",
            "feen the stoo her — whatt on the was word knight back And and with the entle, but \n",
            "they shelpet this could and \n",
            "Lowe of himent if he hat’s \n",
            "\n",
            "Harry don’t \n",
            "are Snling \n",
            "\n",
            "\n",
            "\n",
            "Looking \n",
            "\n",
            "\n",
            "\n",
            "Pobe the right. \n",
            "\n",
            "“All out sivery, whind to Dumblooking and \n",
            "ale the red \n",
            "the wor and the \n",
            "with her with chace wou\n"
          ]
        }
      ]
    },
    {
      "cell_type": "code",
      "source": [],
      "metadata": {
        "id": "jCN73YHgn8wW"
      },
      "execution_count": 111,
      "outputs": []
    }
  ]
}